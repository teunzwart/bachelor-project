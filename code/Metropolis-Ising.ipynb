{
 "cells": [
  {
   "cell_type": "code",
   "execution_count": 1,
   "metadata": {
    "collapsed": false
   },
   "outputs": [],
   "source": [
    "%matplotlib inline\n",
    "\n",
    "import math\n",
    "import random\n",
    "\n",
    "import matplotlib.pyplot as plt\n",
    "import numpy as np\n",
    "import numba"
   ]
  },
  {
   "cell_type": "code",
   "execution_count": 2,
   "metadata": {
    "collapsed": false
   },
   "outputs": [],
   "source": [
    "L = 10 # system size in one direction\n",
    "J = 1 # lattice bond energy\n",
    "temperature = 2 # temperature to simulate\n",
    "beta = 1/temperature # inverse temperature, setting Boltzmann constant to 1"
   ]
  },
  {
   "cell_type": "code",
   "execution_count": 3,
   "metadata": {
    "collapsed": false
   },
   "outputs": [],
   "source": [
    "def calculate_energy(lattice):\n",
    "    \"\"\"Calculate the energy of a lattice using the Ising model Hamiltonian.\"\"\"\n",
    "    energy = 0\n",
    "    for y in range(L):\n",
    "        for x in range(L):\n",
    "            center = lattice[y][x]\n",
    "            neighbours = [(y, (x-1)%L) ,(y, (x+1)%L), ((y-1)%L, x), ((y+1)%L, x)]\n",
    "            for n in neighbours:\n",
    "                if lattice[n] == center:\n",
    "                    energy += J\n",
    "        \n",
    "    return energy"
   ]
  },
  {
   "cell_type": "code",
   "execution_count": 4,
   "metadata": {
    "collapsed": false
   },
   "outputs": [],
   "source": [
    "def exponents_init():\n",
    "    exponents = {}\n",
    "    for x in range(2, 5, 2):\n",
    "        exponents[2*J*x] = math.exp(-beta * 2 * J * x)\n",
    "    \n",
    "    return exponents"
   ]
  },
  {
   "cell_type": "code",
   "execution_count": 6,
   "metadata": {
    "collapsed": false,
    "scrolled": false
   },
   "outputs": [
    {
     "name": "stdout",
     "output_type": "stream",
     "text": [
      "sweep 0\n",
      "sweep 100\n",
      "sweep 200\n"
     ]
    },
    {
     "data": {
      "image/png": "[encoded data removed]",
      "text/plain": [
       "<matplotlib.figure.Figure at 0x10e742908>"
      ]
     },
     "metadata": {},
     "output_type": "display_data"
    },
    {
     "data": {
      "image/png": "[encoded data removed]",
      "text/plain": [
       "<matplotlib.figure.Figure at 0x10b8fe978>"
      ]
     },
     "metadata": {},
     "output_type": "display_data"
    }
   ],
   "source": [
    "def metropolis(sweeps):\n",
    "    energy_history = []\n",
    "    magnet_history = []\n",
    "    exponents = exponents_init()\n",
    "    \n",
    "    lattice = np.ones(L*L).reshape(L, L) # initial temperature is 0\n",
    "    # lattice = np.random.choice([-1, 1], L*L).reshape(L, L) # infinite initial temperature\n",
    "    \n",
    "    energy = calculate_energy(lattice) # calculate initial energy of the lattice\n",
    "    for t in range(sweeps):\n",
    "        for k in range(L*L):\n",
    "\n",
    "            rand_y, rand_x = random.randrange(L), random.randrange(L) # pick a random location on the lattice\n",
    "\n",
    "            spin = lattice[rand_y, rand_x] # get the spin at that random location\n",
    "\n",
    "            # determine the energy delta from flipping that spin\n",
    "            neighbours = [(rand_y, (rand_x-1)%L) ,(rand_y, (rand_x+1)%L), ((rand_y-1)%L, rand_x), ((rand_y+1)%L, rand_x)]\n",
    "            spin_sum = 0\n",
    "            for n in neighbours:\n",
    "                spin_sum += lattice[n]\n",
    "            energy_delta = 2*J*spin*spin_sum\n",
    "            \n",
    "            \n",
    "    \n",
    "            if energy_delta <= 0:\n",
    "                acceptance_probability = 1\n",
    "            else:\n",
    "                acceptance_probability = exponents[energy_delta]\n",
    "\n",
    "            if random.random() <= acceptance_probability:\n",
    "                lattice[rand_y, rand_x] = -1*spin\n",
    "                energy += energy_delta\n",
    "            energy_history.append((t+k/(L*L), energy))\n",
    "            magnet_history.append((t+k/(L*L), np.sum(lattice)))\n",
    "            \n",
    "        if t % 100==0:\n",
    "            print(\"sweep\", t)\n",
    "\n",
    "    return energy_history, magnet_history\n",
    "\n",
    "# %timeit metropolis(1000)\n",
    "energy_history, magnet_history = metropolis(250)\n",
    "plt.plot([x[0] for x in energy_history[:100*L:L]], [(y[1]/(L*L)) for y in energy_history[:100*L:L]])\n",
    "plt.show()\n",
    "plt.plot([x[0] for x in magnet_history[:100*L:L]], [(y[1]/(L*L)) for y in magnet_history[:100*L:L]])\n",
    "plt.show()\n",
    "            "
   ]
  },
  {
   "cell_type": "code",
   "execution_count": 21,
   "metadata": {
    "collapsed": false
   },
   "outputs": [
    {
     "name": "stdout",
     "output_type": "stream",
     "text": [
      "The slowest run took 157.84 times longer than the fastest. This could mean that an intermediate result is being cached.\n",
      "1000 loops, best of 3: 1.23 ms per loop\n"
     ]
    }
   ],
   "source": [
    "@numba.jit\n",
    "def auto_correlation(t, data):\n",
    "    tmax = len(data)\n",
    "    time_delta = data[1][0] - data[0][0]\n",
    "    \n",
    "    upper_bound = tmax-t\n",
    "    first_sum = 0\n",
    "    second_sum = 0\n",
    "    third_sum = 0\n",
    "    for n in range(upper_bound):\n",
    "        first_sum += data[n][0]*data[n+t][0]\n",
    "        second_sum += data[n][0]\n",
    "        third_sum += data[n+t][0]\n",
    "    \n",
    "    correlation = (1/upper_bound)*(first_sum - (1/upper_bound)*second_sum*third_sum)\n",
    "\n",
    "    return correlation\n",
    "\n",
    "%timeit auto_correlation(1000, magnet_history)"
   ]
  },
  {
   "cell_type": "code",
   "execution_count": 48,
   "metadata": {
    "collapsed": false
   },
   "outputs": [],
   "source": [
    "data = np.asarray([auto_correlation(p, magnet_history) for p in range(12500)])\n",
    "normalize = data / data.max()"
   ]
  },
  {
   "cell_type": "code",
   "execution_count": 49,
   "metadata": {
    "collapsed": false
   },
   "outputs": [
    {
     "data": {
      "text/plain": [
       "[<matplotlib.lines.Line2D at 0x1125de3c8>]"
      ]
     },
     "execution_count": 49,
     "metadata": {},
     "output_type": "execute_result"
    },
    {
     "data": {
      "image/png": "[encoded data removed]",
      "text/plain": [
       "<matplotlib.figure.Figure at 0x112510ac8>"
      ]
     },
     "metadata": {},
     "output_type": "display_data"
    }
   ],
   "source": [
    "plt.plot(range(len(data)), normalize)"
   ]
  },
  {
   "cell_type": "code",
   "execution_count": 42,
   "metadata": {
    "collapsed": false
   },
   "outputs": [
    {
     "data": {
      "text/plain": [
       "83.333333133341313"
      ]
     },
     "execution_count": 42,
     "metadata": {},
     "output_type": "execute_result"
    }
   ],
   "source": [
    "np.trapz(normalize)*0.01"
   ]
  },
  {
   "cell_type": "code",
   "execution_count": 40,
   "metadata": {
    "collapsed": false
   },
   "outputs": [
    {
     "name": "stdout",
     "output_type": "stream",
     "text": [
      "[(0.0, 100.0), (0.01, 100.0), (0.02, 100.0), (0.03, 100.0), (0.04, 100.0), (0.05, 100.0), (0.06, 100.0), (0.07, 100.0), (0.08, 100.0), (0.09, 100.0)]\n"
     ]
    }
   ],
   "source": [
    "print(magnet_history[:10])"
   ]
  },
  {
   "cell_type": "code",
   "execution_count": 44,
   "metadata": {
    "collapsed": false
   },
   "outputs": [
    {
     "data": {
      "image/png": "[encoded data removed]",
      "text/plain": [
       "<matplotlib.figure.Figure at 0x11029a6d8>"
      ]
     },
     "metadata": {},
     "output_type": "display_data"
    }
   ],
   "source": [
    "plt.plot(range(len(data)), normalize)\n",
    "plt.yscale(\"log\")"
   ]
  },
  {
   "cell_type": "code",
   "execution_count": null,
   "metadata": {
    "collapsed": true
   },
   "outputs": [],
   "source": []
  }
 ],
 "metadata": {
  "kernelspec": {
   "display_name": "Python 3",
   "language": "python",
   "name": "python3"
  },
  "language_info": {
   "codemirror_mode": {
    "name": "ipython",
    "version": 3
   },
   "file_extension": ".py",
   "mimetype": "text/x-python",
   "name": "python",
   "nbconvert_exporter": "python",
   "pygments_lexer": "ipython3",
   "version": "3.5.1"
  }
 },
 "nbformat": 4,
 "nbformat_minor": 0
}

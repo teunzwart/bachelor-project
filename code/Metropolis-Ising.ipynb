{
 "cells": [
  {
   "cell_type": "code",
   "execution_count": null,
   "metadata": {
    "collapsed": false
   },
   "outputs": [],
   "source": [
    "%matplotlib inline\n",
    "\n",
    "import importlib\n",
    "\n",
    "import matplotlib.pyplot as plt\n",
    "import numpy as np\n",
    "\n",
    "import metropolis_ising\n",
    "importlib.reload(metropolis_ising)\n",
    "\n",
    "ising = metropolis_ising.MetropolisIsing(lattice_size=4, bond_energy=1, temperature=3, initial_temperature=\"hi\", sweeps=10000)\n",
    "ising.show_lattice(show_ticks=False)"
   ]
  },
  {
   "cell_type": "code",
   "execution_count": null,
   "metadata": {
    "collapsed": false,
    "scrolled": false
   },
   "outputs": [],
   "source": [
    "ising.metropolis()\n",
    "\n",
    "ising.plot_magnetization()\n",
    "ising.plot_energy()"
   ]
  },
  {
   "cell_type": "code",
   "execution_count": null,
   "metadata": {
    "collapsed": false
   },
   "outputs": [],
   "source": [
    "# Data gets normalized immediatly.\n",
    "equilibrium = 2000\n",
    "equilibrium_energy = ising.energy_history[equilibrium:] / ising.no_of_sites\n",
    "equilibrium_magnetization = ising.magnet_history[equilibrium:] / ising.no_of_sites"
   ]
  },
  {
   "cell_type": "code",
   "execution_count": null,
   "metadata": {
    "collapsed": false,
    "scrolled": false
   },
   "outputs": [],
   "source": [
    "print(ising.binning_method(equilibrium_energy, 12, \"Energy\", True))\n",
    "print(ising.binning_method(np.absolute(equilibrium_magnetization), 12, \"Magnetization\", True))\n",
    "print(ising.binning_method((equilibrium_magnetization*ising.no_of_sites)**2, 12, \"Magnetization Squared\", True))"
   ]
  },
  {
   "cell_type": "code",
   "execution_count": null,
   "metadata": {
    "collapsed": false,
    "scrolled": false
   },
   "outputs": [],
   "source": [
    "magnet_correlation_time, _ = ising.numpy_autocorrelation(equilibrium_magnetization)\n",
    "print(\"Magnetization correlation time is {0} Monte Carlo Sweeps.\".format(magnet_correlation_time))\n",
    "\n",
    "energy_correlation_time, _ = ising.numpy_autocorrelation(equilibrium_energy, False)\n",
    "print(\"Energy correlation time is {0} Monte Carlo Sweeps.\".format(energy_correlation_time))"
   ]
  },
  {
   "cell_type": "code",
   "execution_count": null,
   "metadata": {
    "collapsed": false
   },
   "outputs": [],
   "source": [
    "ising.sample_every_two_correlation_times(equilibrium_energy, equilibrium_magnetization, energy_correlation_time)"
   ]
  },
  {
   "cell_type": "code",
   "execution_count": null,
   "metadata": {
    "collapsed": true
   },
   "outputs": [],
   "source": [
    "def binning_temperature_range():\n",
    "    energys = []\n",
    "    energy_errors = []\n",
    "    energy_correlations = []\n",
    "    \n",
    "    magnetizations = []\n",
    "    magnetization_errors = []\n",
    "    magnetization_correlations = []\n",
    "    \n",
    "    for temperature in np.arange(0.2, 5, 0.2):\n",
    "        ising = metropolis_ising.MetropolisIsing(lattice_size=4, bond_energy=1, temperature=temperature, initial_temperature=\"hi\", sweeps=10000)\n",
    "        ising.metropolis()\n",
    "        energy_correlation_time, energy, energy_error = ising.binning_method(ising.energy_history[2000:] / ising.no_of_sites, 10, \"Energy\")\n",
    "        magnetization_correlation_time, magnetization, magnetization_error = ising.binning_method(np.absolute(ising.magnet_history[5000:] / ising.no_of_sites), 10, \"Energy\")\n",
    "        \n",
    "        print(energy, energy_error)\n",
    "        energys.append((temperature, energy))\n",
    "        energy_errors.append((temperature, energy_error))\n",
    "        energy_correlations.append((temperature, energy_correlation_time))\n",
    "        magnetizations.append((temperature, np.absolute(magnetization)))\n",
    "        magnetization_errors.append((temperature, magnetization_error))\n",
    "        magnetization_correlations.append((temperature, magnetization_correlation_time))\n",
    "    \n",
    "    return energys, energy_errors, energy_correlations, magnetizations, magnetization_errors, magnetization_correlations"
   ]
  },
  {
   "cell_type": "code",
   "execution_count": null,
   "metadata": {
    "collapsed": false
   },
   "outputs": [],
   "source": [
    "energy, energy_error, energy_correlation, magnetization, magnetization_error, magnetization_correlation = binning_temperature_range()"
   ]
  },
  {
   "cell_type": "code",
   "execution_count": null,
   "metadata": {
    "collapsed": false
   },
   "outputs": [],
   "source": [
    "ising.plot_correlation_time_range(energy_correlation, 4, \"Energy\")\n",
    "ising.plot_correlation_time_range(magnetization_correlation, 4, \"Magnetization\")\n",
    "ising.plot_quantity_range(energy, energy_error, \"Energy\", 4)\n",
    "ising.plot_quantity_range(magnetization, magnetization_error, \"Magnetization\", 4, exact=ising.exact_magnetization(0.2, 5))"
   ]
  },
  {
   "cell_type": "code",
   "execution_count": null,
   "metadata": {
    "collapsed": false,
    "scrolled": true
   },
   "outputs": [],
   "source": [
    "def temperature_range(lower, upper, step, lattice_size_L):\n",
    "    \"\"\"Calculate energy and magnetization over a range of temperatures.\"\"\"\n",
    "    energy = []\n",
    "    energy_error = []\n",
    "    \n",
    "    magnetization = []\n",
    "    magnetization_error = []\n",
    "    \n",
    "    specific_heat = []\n",
    "    specific_heat_error = []\n",
    "    \n",
    "    correlation_times = []\n",
    "    \n",
    "    for temperature in np.arange(lower, upper, step):\n",
    "        ising = metropolis_ising.MetropolisIsing(lattice_size_L=lattice_size_L, bond_energy_J=1, temperature_T=temperature,\n",
    "                                                 initial_temperature=\"lo\", sweeps=10000)\n",
    "        \n",
    "        ising.metropolis()\n",
    "        equilibrium = 2000\n",
    "\n",
    "        energy_history = ising.energy_history[equilibrium:] / ising.no_of_sites\n",
    "        magnet_history = ising.magnet_history[equilibrium:] / ising.no_of_sites\n",
    "        correlation_time, acfunc = ising.numpy_autocorrelation(magnet_history)\n",
    "\n",
    "        if np.isnan(correlation_time) or correlation_time <= 0:\n",
    "            correlation_time = 1\n",
    "        correlation_times.append((temperature, correlation_time))\n",
    "\n",
    "        c = ising.heat_capacity(energy_history, temperature)\n",
    "        specific_heat.append((temperature, c))\n",
    "        specific_heat_error.append((temperature, ising.bootstrap_method(energy_history, 100, temperature, ising.heat_capacity)))\n",
    "        \n",
    "        magnet_samples = []\n",
    "        energy_samples = []\n",
    "\n",
    "        # Sample every two correlation times.\n",
    "        for t in range(0, len(energy_history), 2 * np.ceil(correlation_time)):\n",
    "            magnet_samples.append(magnet_history[t])\n",
    "            energy_samples.append(energy_history[t])\n",
    "\n",
    "        energy.append((temperature, np.mean(energy_samples)))\n",
    "        energy_error.append((temperature, np.std(energy_samples)) / np.sqrt(len(energy_samples)))\n",
    "\n",
    "        magnetization.append((temperature, np.mean(np.absolute(magnet_samples))))\n",
    "        magnetization_error.append((temperature, np.std(np.absolute(magnet_samples)) / np.sqrt(len(np.absolute(magnet_samples)))))\n",
    "    \n",
    "    return energy, energy_error, magnetization, magnetization_error, specific_heat, specific_heat_error, correlation_times"
   ]
  },
  {
   "cell_type": "code",
   "execution_count": null,
   "metadata": {
    "collapsed": false,
    "scrolled": true
   },
   "outputs": [],
   "source": [
    "energy, energy_error, magnetization, magnetization_error, specific_heat, specific_heat_error, correlation_times = temperature_range(0.2, 5, 0.2, 4)"
   ]
  },
  {
   "cell_type": "code",
   "execution_count": null,
   "metadata": {
    "collapsed": false
   },
   "outputs": [],
   "source": [
    "print(specific_heat_error)\n",
    "ising.plot_correlation_time_range(correlation_times, 4, \"Magnetization\")\n",
    "\n",
    "ising.plot_quantity_range(energy, energy_error, \"Internal Energy per Spin\", 4)\n",
    "\n",
    "ising.plot_quantity_range(magnetization, magnetization_error, \"Magnetization per Spin\", 4, exact=ising.exact_magnetization(0.2, 5))\n",
    "\n",
    "ising.plot_quantity_range(specific_heat, specific_heat_error, \"Specific Heat per Spin\", 4)"
   ]
  },
  {
   "cell_type": "code",
   "execution_count": null,
   "metadata": {
    "collapsed": false,
    "scrolled": true
   },
   "outputs": [],
   "source": [
    "energy4, energy_error4, magnetization4, magnetization_error4, specific_heat4, specific_heat_error4, correlation_times4 = temperature_range(0.2, 5, 0.2, 4)\n",
    "energy7, energy_error7, magnetization7, magnetization_error7, specific_heat7, specific_heat_error7, correlation_times7 = temperature_range(0.2, 5, 0.2, 7)\n",
    "energy10, energy_error10, magnetization10, magnetization_error10, specific_heat10, specific_heat_error10, correlation_times10 = temperature_range(0.2, 5, 0.2, 10)"
   ]
  },
  {
   "cell_type": "code",
   "execution_count": null,
   "metadata": {
    "collapsed": false
   },
   "outputs": [],
   "source": [
    "ising.plot_correlation_time_range(correlation_times4, 4, \"Magnetization\", show_plot=False)\n",
    "ising.plot_correlation_time_range(correlation_times7, 7, \"Magnetization\", show_plot=False)\n",
    "ising.plot_correlation_time_range(correlation_times10, 10, \"Magnetization\")\n",
    "\n",
    "ising.plot_quantity_range(energy4, energy_error4, \"Internal Energy per Spin\", 4, show_plot=False)\n",
    "ising.plot_quantity_range(energy7, energy_error7, \"Internal Energy per Spin\", 7, show_plot=False)\n",
    "ising.plot_quantity_range(energy10, energy_error10, \"Internal Energy per Spin\", 10, \"lower right\")\n",
    "\n",
    "ising.plot_quantity_range(magnetization4, magnetization_error4, \"Magnetization per Spin\", 4, show_plot=False)\n",
    "ising.plot_quantity_range(magnetization7, magnetization_error7, \"Magnetization per Spin\", 7, show_plot=False)\n",
    "ising.plot_quantity_range(magnetization10, magnetization_error10, \"Magnetization per Spin\", 10, \"upper right\", exact=ising.exact_magnetization(0.2, 5))\n",
    "\n",
    "ising.plot_quantity_range(specific_heat4, specific_heat_error4, \"Specific Heat per Spin\", 4, show_plot=False)\n",
    "ising.plot_quantity_range(specific_heat7, specific_heat_error7, \"Specific Heat per Spin\", 7, show_plot=False)\n",
    "ising.plot_quantity_range(specific_heat10, specific_heat_error10, \"Specific Heat per Spin\", 10)"
   ]
  }
 ],
 "metadata": {
  "kernelspec": {
   "display_name": "Python 3",
   "language": "python",
   "name": "python3"
  },
  "language_info": {
   "codemirror_mode": {
    "name": "ipython",
    "version": 3
   },
   "file_extension": ".py",
   "mimetype": "text/x-python",
   "name": "python",
   "nbconvert_exporter": "python",
   "pygments_lexer": "ipython3",
   "version": "3.5.1"
  }
 },
 "nbformat": 4,
 "nbformat_minor": 0
}

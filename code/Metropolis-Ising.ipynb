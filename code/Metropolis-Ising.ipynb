{
 "cells": [
  {
   "cell_type": "code",
   "execution_count": null,
   "metadata": {
    "collapsed": false
   },
   "outputs": [],
   "source": [
    "%matplotlib inline\n",
    "%load_ext autoreload\n",
    "% autoreload 2\n",
    "\n",
    "import matplotlib.pyplot as plt\n",
    "import numpy as np\n",
    "import seaborn\n",
    "\n",
    "import metropolis_ising\n",
    "import exact_ising_model as exact\n",
    "\n",
    "ising = metropolis_ising.MetropolisIsing(lattice_size=4, bond_energy=1, temperature=8, initial_temperature=\"hi\", sweeps=70536)\n",
    "ising.show_lattice()"
   ]
  },
  {
   "cell_type": "code",
   "execution_count": null,
   "metadata": {
    "collapsed": false,
    "scrolled": false
   },
   "outputs": [],
   "source": [
    "ising.metropolis()\n",
    "\n",
    "ising.plot_magnetization()\n",
    "ising.plot_energy()"
   ]
  },
  {
   "cell_type": "code",
   "execution_count": null,
   "metadata": {
    "collapsed": false
   },
   "outputs": [],
   "source": [
    "# Data gets normalized immediatly.\n",
    "equilibrium = 5000\n",
    "equilibrium_energy = ising.energy_history[equilibrium:] / ising.no_of_sites\n",
    "equilibrium_magnetization = ising.magnet_history[equilibrium:] / ising.no_of_sites"
   ]
  },
  {
   "cell_type": "code",
   "execution_count": null,
   "metadata": {
    "collapsed": false,
    "scrolled": false
   },
   "outputs": [],
   "source": [
    "print(ising.binning_method(equilibrium_energy, 20, \"Energy\", show_plot=True))\n",
    "print(ising.binning_method(np.absolute(np.absolute(equilibrium_magnetization)), 20, \"Magnetization\", show_plot=True))\n",
    "print(ising.binning_method((equilibrium_magnetization*ising.no_of_sites)**2, 20, \"Magnetization Squared\", show_plot=True))\n",
    "\n",
    "magnet_correlation_time, _ = ising.numpy_autocorrelation(np.absolute(equilibrium_magnetization))\n",
    "print(\"Magnetization correlation time is {0} Monte Carlo Sweeps.\".format(magnet_correlation_time))\n",
    "\n",
    "energy_correlation_time, _ = ising.numpy_autocorrelation(equilibrium_energy)\n",
    "print(\"Energy correlation time is {0} Monte Carlo Sweeps.\".format(energy_correlation_time))\n",
    "\n",
    "ising.sample_every_two_correlation_times(equilibrium_energy, equilibrium_magnetization, energy_correlation_time)"
   ]
  },
  {
   "cell_type": "code",
   "execution_count": null,
   "metadata": {
    "collapsed": false
   },
   "outputs": [],
   "source": [
    "def binning_temperature_range(lower, upper, lattice_size, step=0.2):\n",
    "    energys = []\n",
    "    energy_errors = []\n",
    "    energy_correlations = []\n",
    "    \n",
    "    magnetizations = []\n",
    "    magnetization_errors = []\n",
    "    magnetization_correlations = []\n",
    "    \n",
    "    specific_heat = []\n",
    "    specific_heat_errors = []\n",
    "    specific_heat_correlations = []\n",
    "    \n",
    "    for temperature in np.arange(lower, upper, step):\n",
    "        ising = metropolis_ising.MetropolisIsing(lattice_size=lattice, bond_energy=1, temperature=temperature, initial_temperature=\"hi\", sweeps=10000)\n",
    "        ising.metropolis()\n",
    "        energy_correlation_time, energy, energy_error = ising.binning_method(ising.energy_history[5000:] / ising.no_of_sites, 10, \"Energy\")\n",
    "        magnetization_correlation_time, magnetization, magnetization_error = ising.binning_method(np.absolute(ising.magnet_history[5000:] / ising.no_of_sites), 10, \"Energy\")\n",
    "        \n",
    "        c = ising.heat_capacity(ising.energy_history[5000:] / ising.no_of_sites, temperature)\n",
    "        specific_heat.append((temperature, c))\n",
    "        specific_heat_errors.append((temperature, ising.bootstrap_method(ising.energy_history[5000:] / ising.no_of_sites, 100, temperature, ising.heat_capacity)))\n",
    "        \n",
    "        energys.append((temperature, energy))\n",
    "        energy_errors.append((temperature, energy_error))\n",
    "        energy_correlations.append((temperature, energy_correlation_time))\n",
    "        magnetizations.append((temperature, np.absolute(magnetization)))\n",
    "        magnetization_errors.append((temperature, magnetization_error))\n",
    "        magnetization_correlations.append((temperature, magnetization_correlation_time))\n",
    "    \n",
    "    return energys, energy_errors, energy_correlations, magnetizations, magnetization_errors, magnetization_correlations, specific_heat, specific_heat_errors, specific_heat_correlations"
   ]
  },
  {
   "cell_type": "code",
   "execution_count": null,
   "metadata": {
    "collapsed": false,
    "scrolled": true
   },
   "outputs": [],
   "source": [
    "lattice_size_range([4], 0.2, 5)"
   ]
  },
  {
   "cell_type": "code",
   "execution_count": null,
   "metadata": {
    "collapsed": false,
    "scrolled": true
   },
   "outputs": [],
   "source": [
    "def temperature_range(lower, upper, lattice_size, step=0.2):\n",
    "    \"\"\"Calculate energy and magnetization over a range of temperatures.\"\"\"\n",
    "    energy = []\n",
    "    energy_error = []\n",
    "    \n",
    "    magnetization = []\n",
    "    magnetization_error = []\n",
    "    \n",
    "    specific_heat = []\n",
    "    specific_heat_error = []\n",
    "    \n",
    "    correlation_times = []\n",
    "    \n",
    "    for temperature in np.arange(lower, upper, step):\n",
    "        ising = metropolis_ising.MetropolisIsing(lattice_size=lattice_size, bond_energy=1, temperature=temperature,\n",
    "                                                 initial_temperature=\"lo\", sweeps=10000)\n",
    "        \n",
    "        ising.metropolis()\n",
    "        equilibrium = 2000\n",
    "\n",
    "        energy_history = ising.energy_history[equilibrium:] / ising.no_of_sites\n",
    "        magnet_history = ising.magnet_history[equilibrium:] / ising.no_of_sites\n",
    "        correlation_time, acfunc = ising.numpy_autocorrelation(magnet_history)\n",
    "\n",
    "        if np.isnan(correlation_time) or correlation_time <= 0:\n",
    "            correlation_time = 1\n",
    "        correlation_times.append((temperature, correlation_time))\n",
    "\n",
    "        c = ising.heat_capacity(energy_history, temperature)\n",
    "        specific_heat.append((temperature, c))\n",
    "        specific_heat_error.append((temperature, ising.bootstrap_method(energy_history, 100, temperature, ising.heat_capacity)))\n",
    "        \n",
    "        magnet_samples = []\n",
    "        energy_samples = []\n",
    "\n",
    "        # Sample every two correlation times.\n",
    "        for t in range(0, len(energy_history), 2 * int(np.ceil(correlation_time))):\n",
    "            magnet_samples.append(magnet_history[t])\n",
    "            energy_samples.append(energy_history[t])\n",
    "\n",
    "        energy.append((temperature, np.mean(energy_samples)))\n",
    "        energy_error.append((temperature, np.std(energy_samples) / np.sqrt(len(energy_samples))))\n",
    "#         print((temperature, np.std(energy_samples)) / np.sqrt(len(energy_samples)))\n",
    "\n",
    "        magnetization.append((temperature, np.mean(np.absolute(magnet_samples))))\n",
    "        magnetization_error.append((temperature, np.std(np.absolute(magnet_samples)) / np.sqrt(len(np.absolute(magnet_samples)))))\n",
    "    \n",
    "    return energy, energy_error, magnetization, magnetization_error, specific_heat, specific_heat_error, correlation_times"
   ]
  },
  {
   "cell_type": "code",
   "execution_count": null,
   "metadata": {
    "collapsed": true
   },
   "outputs": [],
   "source": [
    "def lattice_size_range(lattice_sizes, lower, upper, step=0.2):\n",
    "    lattice_sizes.sort()\n",
    "    energy_data = []\n",
    "    energy_error_data = []\n",
    "    energy_correlation_data = []\n",
    "    \n",
    "    magnetization_data = []\n",
    "    magnetization_error_data = []\n",
    "    magnetization_correlation_data = []\n",
    "    \n",
    "    specific_heat_data = []\n",
    "    specific_heat_error_data = []\n",
    "    specific_heat_correlation_data = []\n",
    "    for p in lattice_sizes:\n",
    "        print(\"Lattice Size is {0}.\".format(p))\n",
    "        (energy_trange, \n",
    "         energy_error_trange, \n",
    "         energy_correlation_trange, \n",
    "         magnetization_trange, \n",
    "         magnetization_error_trange, \n",
    "         magnetization_correlation_trange, \n",
    "         specific_heat_trange, \n",
    "         specific_heat_error_trange, \n",
    "         specific_heat_correlation_trange) = binning_temperature_range(lower, upper, lattice=p, step=step)\n",
    "        \n",
    "        energy_data.append(energy_trange)\n",
    "        energy_error_data.append(energy_error_trange)\n",
    "        energy_correlation_data.append(energy_correlation_trange)\n",
    "\n",
    "        magnetization_data.append(magnetization_trange)\n",
    "        magnetization_error_data.append(magnetization_error_trange)\n",
    "        magnetization_correlation_data.append(magnetization_correlation_trange)\n",
    "\n",
    "        specific_heat_data.append(specific_heat_trange)\n",
    "        specific_heat_error_data.append(specific_heat_error_trange)\n",
    "        specific_heat_correlation_data.append(specific_heat_correlation_trange)\n",
    "    \n",
    "    #TODO: Add other correlation functions and different temperature range functions.\n",
    "    for k in range(len(lattice_sizes)):\n",
    "        show = False\n",
    "        if k == range(len(lattice_sizes))[-1]:\n",
    "            show = True\n",
    "        ising.plot_correlation_time_range(magnetization_correlation_data[k], lattice_sizes[k], \"Magnetization\", show_plot=show)\n",
    "    for k in range(len(lattice_sizes)):\n",
    "        show = False\n",
    "        exact_energy = None\n",
    "        if k == range(len(lattice_sizes))[-1]:\n",
    "            show = True\n",
    "            exact_energy = exact.internal_energy(1, lower, upper)\n",
    "        ising.plot_quantity_range(energy_data[k], energy_error_data[k], \"Internal Energy per Spin\", lattice_sizes[k], show_plot=show, exact=exact_energy)\n",
    "    for k in range(len(lattice_sizes)):\n",
    "        show = False\n",
    "        exact_magnetization = None\n",
    "        if k == range(len(lattice_sizes))[-1]:\n",
    "            show = True\n",
    "            exact_magnetization = exact.magnetization(1, lower, upper)\n",
    "        ising.plot_quantity_range(magnetization_data[k], magnetization_error_data[k], \"Magnetization per Spin\", lattice_sizes[k], show_plot=show, exact=exact_magnetization)\n",
    "    for k in range(len(lattice_sizes)):\n",
    "        show = False\n",
    "        exact_specific_heat = None\n",
    "        if k == range(len(lattice_sizes))[-1]:\n",
    "            show = True\n",
    "            exact_specific_heat = exact.heat_capacity(1, lower, upper)\n",
    "        ising.plot_quantity_range(specific_heat_data[k], specific_heat_error_data[k], \"Specific Heat per Spin\", lattice_sizes[k], show_plot=show, exact=exact_specific_heat)"
   ]
  },
  {
   "cell_type": "code",
   "execution_count": null,
   "metadata": {
    "collapsed": false,
    "scrolled": true
   },
   "outputs": [],
   "source": [
    "energy, energy_error, magnetization, magnetization_error, specific_heat, specific_heat_error, correlation_times = temperature_range(0.2, 5, 0.2, 4)"
   ]
  },
  {
   "cell_type": "code",
   "execution_count": null,
   "metadata": {
    "collapsed": false,
    "scrolled": false
   },
   "outputs": [],
   "source": [
    "ising.plot_correlation_time_range(correlation_times, 4, \"Magnetization\")\n",
    "\n",
    "ising.plot_quantity_range(energy, energy_error, \"Internal Energy per Spin\", 4)\n",
    "\n",
    "ising.plot_quantity_range(magnetization, magnetization_error, \"Magnetization per Spin\", 4, exact=exact.magnetization(0.2, 5))\n",
    "\n",
    "ising.plot_quantity_range(specific_heat, specific_heat_error, \"Specific Heat per Spin\", 4, exact=exact.heat_capacity(0.2, 5))"
   ]
  },
  {
   "cell_type": "code",
   "execution_count": null,
   "metadata": {
    "collapsed": false,
    "scrolled": true
   },
   "outputs": [],
   "source": [
    "energy4, energy_error4, magnetization4, magnetization_error4, specific_heat4, specific_heat_error4, correlation_times4 = temperature_range(0.2, 5, 0.2, 4)\n",
    "energy7, energy_error7, magnetization7, magnetization_error7, specific_heat7, specific_heat_error7, correlation_times7 = temperature_range(0.2, 5, 0.2, 7)\n",
    "energy10, energy_error10, magnetization10, magnetization_error10, specific_heat10, specific_heat_error10, correlation_times10 = temperature_range(0.2, 5, 0.2, 10)"
   ]
  },
  {
   "cell_type": "code",
   "execution_count": null,
   "metadata": {
    "collapsed": false,
    "scrolled": false
   },
   "outputs": [],
   "source": [
    "ising.plot_correlation_time_range(correlation_times4, 4, \"Magnetization\", show_plot=False)\n",
    "ising.plot_correlation_time_range(correlation_times7, 7, \"Magnetization\", show_plot=False)\n",
    "ising.plot_correlation_time_range(correlation_times10, 10, \"Magnetization\", save=True)\n",
    "\n",
    "ising.plot_quantity_range(energy4, energy_error4, \"Internal Energy per Spin\", 4, show_plot=False)\n",
    "ising.plot_quantity_range(energy7, energy_error7, \"Internal Energy per Spin\", 7, show_plot=False)\n",
    "ising.plot_quantity_range(energy10, energy_error10, \"Internal Energy per Spin\", 10, exact=exact.internal_energy(0.2, 5), save=True)\n",
    "\n",
    "ising.plot_quantity_range(magnetization4, magnetization_error4, \"Magnetization per Spin\", 4, show_plot=False)\n",
    "ising.plot_quantity_range(magnetization7, magnetization_error7, \"Magnetization per Spin\", 7, show_plot=False)\n",
    "ising.plot_quantity_range(magnetization10, magnetization_error10, \"Magnetization per Spin\", 10, exact=exact.magnetization(0.2, 5), save=True)\n",
    "\n",
    "ising.plot_quantity_range(specific_heat4, specific_heat_error4, \"Specific Heat per Spin\", 4, show_plot=False)\n",
    "ising.plot_quantity_range(specific_heat7, specific_heat_error7, \"Specific Heat per Spin\", 7, show_plot=False)\n",
    "ising.plot_quantity_range(specific_heat10, specific_heat_error10, \"Specific Heat per Spin\", 10, exact=exact.heat_capacity(0.2, 5), save=True)"
   ]
  },
  {
   "cell_type": "code",
   "execution_count": null,
   "metadata": {
    "collapsed": true
   },
   "outputs": [],
   "source": [
    "def jackknife(data, calculation):\n",
    "    split_data = np.array_split(data, 8)\n",
    "    print(split_data)\n",
    "    for n in split_data:\n",
    "        print(len(n))\n",
    "\n",
    "jackknife(equilibrium_energy, 4)"
   ]
  }
 ],
 "metadata": {
  "kernelspec": {
   "display_name": "Python 3",
   "language": "python",
   "name": "python3"
  },
  "language_info": {
   "codemirror_mode": {
    "name": "ipython",
    "version": 3
   },
   "file_extension": ".py",
   "mimetype": "text/x-python",
   "name": "python",
   "nbconvert_exporter": "python",
   "pygments_lexer": "ipython3",
   "version": "3.5.1"
  }
 },
 "nbformat": 4,
 "nbformat_minor": 0
}

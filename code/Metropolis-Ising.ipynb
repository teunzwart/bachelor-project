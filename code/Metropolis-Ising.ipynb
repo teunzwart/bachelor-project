{
 "cells": [
  {
   "cell_type": "code",
   "execution_count": 20,
   "metadata": {
    "collapsed": false
   },
   "outputs": [],
   "source": [
    "%matplotlib inline\n",
    "\n",
    "import math\n",
    "import random\n",
    "\n",
    "import matplotlib.pyplot as plt\n",
    "import numpy as np"
   ]
  },
  {
   "cell_type": "code",
   "execution_count": 43,
   "metadata": {
    "collapsed": false
   },
   "outputs": [
    {
     "name": "stdout",
     "output_type": "stream",
     "text": [
      "[[-1  1  1 -1]\n",
      " [ 1 -1  1 -1]\n",
      " [-1  1 -1 -1]\n",
      " [ 1 -1  1  1]]\n",
      "0\n"
     ]
    }
   ],
   "source": [
    "L = 4 # system size in one direction\n",
    "J = 1 # lattice bond energy\n",
    "temperature = 2 # temperature to simulate\n",
    "beta = 1/temperature # inverse temperature, setting Boltzmann constant to 1\n",
    "\n",
    "sweeps = 10000\n",
    "\n",
    "lattice = np.random.choice([-1, 1], L*L).reshape(L, L) # infinite initial temperature\n",
    "print(lattice)\n",
    "\n",
    "magnetization = np.sum(lattice)\n",
    "print(magnetization)"
   ]
  },
  {
   "cell_type": "code",
   "execution_count": 44,
   "metadata": {
    "collapsed": false
   },
   "outputs": [
    {
     "name": "stdout",
     "output_type": "stream",
     "text": [
      "20\n"
     ]
    }
   ],
   "source": [
    "def calculate_energy(lattice):\n",
    "    \"\"\"Calculate the energy of a lattice using the Ising model Hamiltonian.\"\"\"\n",
    "    energy = 0\n",
    "    for y in range(L):\n",
    "        for x in range(L):\n",
    "            center = lattice[y][x]\n",
    "            neighbours = [(y, (x-1)%L) ,(y, (x+1)%L), ((y-1)%L, x), ((y+1)%L, x)]\n",
    "            for n in neighbours:\n",
    "                if lattice[n] == center:\n",
    "                    energy += J\n",
    "        \n",
    "    return energy\n",
    "                    \n",
    "            \n",
    "\n",
    "energy = calculate_energy(lattice)\n",
    "print(energy)"
   ]
  },
  {
   "cell_type": "code",
   "execution_count": 47,
   "metadata": {
    "collapsed": false,
    "scrolled": true
   },
   "outputs": [
    {
     "data": {
      "image/png": "[encoded data removed]",
      "text/plain": [
       "<matplotlib.figure.Figure at 0x111590860>"
      ]
     },
     "metadata": {},
     "output_type": "display_data"
    }
   ],
   "source": [
    "energy_history = []\n",
    "\n",
    "energy = calculate_energy(lattice)\n",
    "# print(energy)\n",
    "for t in range(sweeps):\n",
    "    for k in range(L*L):\n",
    "        rand_y, rand_x = (random.randrange(L), random.randrange(L))\n",
    "        spin = lattice[rand_y, rand_x]\n",
    "        neighbours = [(rand_y, (rand_x-1)%L) ,(rand_y, (rand_x+1)%L), ((rand_y-1)%L, rand_x), ((rand_y+1)%L, rand_x)]\n",
    "        spin_sum = 0\n",
    "        for n in neighbours:\n",
    "            spin_sum += lattice[n]\n",
    "        energy_delta = 2*J*spin*spin_sum\n",
    "#         print(energy_delta)\n",
    "        acceptance_probability = min(1, math.exp(-beta*energy_delta))\n",
    "#         print(acceptance_probability)\n",
    "        if random.random() <= acceptance_probability:\n",
    "            np.put(lattice, [rand_y, rand_x], -1*spin)\n",
    "            energy += energy_delta\n",
    "#             print(energy)\n",
    "        energy_history.append((t+k/(L*L), energy))\n",
    "\n",
    "# print(energy_history)\n",
    "plt.plot([x[0] for x in energy_history], [y[1] for y in energy_history])\n",
    "plt.show()\n",
    "            "
   ]
  },
  {
   "cell_type": "code",
   "execution_count": null,
   "metadata": {
    "collapsed": true
   },
   "outputs": [],
   "source": []
  }
 ],
 "metadata": {
  "kernelspec": {
   "display_name": "Python 3",
   "language": "python",
   "name": "python3"
  },
  "language_info": {
   "codemirror_mode": {
    "name": "ipython",
    "version": 3
   },
   "file_extension": ".py",
   "mimetype": "text/x-python",
   "name": "python",
   "nbconvert_exporter": "python",
   "pygments_lexer": "ipython3",
   "version": "3.5.1"
  }
 },
 "nbformat": 4,
 "nbformat_minor": 0
}

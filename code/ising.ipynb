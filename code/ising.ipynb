{
 "cells": [
  {
   "cell_type": "code",
   "execution_count": null,
   "metadata": {
    "collapsed": false
   },
   "outputs": [],
   "source": [
    "%matplotlib inline\n",
    "%load_ext autoreload\n",
    "%autoreload 2\n",
    "\n",
    "import analysis\n",
    "SAVE_FILES = False # Set this to true if you want to save plots.\n",
    "\n",
    "import matplotlib.pyplot as plt\n",
    "import numpy as np\n",
    "\n",
    "import ising_model\n",
    "import exact_ising_model as exact\n",
    "import plotting\n",
    "import simulation"
   ]
  },
  {
   "cell_type": "code",
   "execution_count": null,
   "metadata": {
    "collapsed": false
   },
   "outputs": [],
   "source": [
    "files = [\"20160513_150716_ising_wolff_10_65536_[2.269-2.269]_0.1.pickle\",\n",
    "\"20160513_150831_ising_wolff_20_65536_[2.269-2.269]_0.1.pickle\",\n",
    "\"20160513_151121_ising_wolff_40_65536_[2.269-2.269]_0.1.pickle\",\n",
    "\"20160513_151640_ising_wolff_60_65536_[2.269-2.269]_0.1.pickle\",\n",
    "\"20160513_152459_ising_wolff_80_65536_[2.269-2.269]_0.1.pickle\"]\n",
    "\n",
    "(critical_temperature,\n",
    " critical_temperature_error,\n",
    " magnetizabilities,\n",
    " magnetizations,\n",
    " heat_capacities) = analysis.data_analysis(files, show_plots=False)\n",
    "\n",
    "beta_over_nu, beta_over_nu_error = analysis.loglog_exponent_finding(magnetizations, 'Magnetization', save=SAVE_FILES)\n",
    "alpha_over_nu, alpha_over_nu_error = analysis.loglog_exponent_finding(heat_capacities, 'Heat Capacity', save=SAVE_FILES, heat_capacity_correction=0)\n",
    "gamma_over_nu, gamma_over_nu_error = analysis.loglog_exponent_finding(magnetizabilities, 'Susceptibility', save=SAVE_FILES)\n",
    "print(\"Beta/Nu = {0} +/- {1}\".format(-beta_over_nu, beta_over_nu_error))\n",
    "print(\"Alpha/Nu = {0} +/- {1}\".format(alpha_over_nu, alpha_over_nu_error))\n",
    "print(\"Gamma/Nu = {0} +/- {1}\".format(gamma_over_nu, gamma_over_nu_error))"
   ]
  },
  {
   "cell_type": "code",
   "execution_count": null,
   "metadata": {
    "collapsed": false,
    "scrolled": false
   },
   "outputs": [],
   "source": [
    "files = [\"20160510_112747_ising_wolff_10_65536_[2-3]_0.1.pickle\",\n",
    "         \"20160510_113429_ising_wolff_20_65536_[2-3]_0.1.pickle\",\n",
    "         \"20160510_115100_ising_wolff_40_65536_[2-3]_0.1.pickle\"]\n",
    "\n",
    "# (critical_temperature,\n",
    "#  critical_temperature_error,\n",
    "#  magnetizabilities,\n",
    "#  magnetizations,\n",
    "#  heat_capacities) = analysis.data_analysis(files, save=SAVE_FILES)\n",
    "\n",
    "files2 = [\"20160513_153432_ising_wolff_10_65536_[2.169-2.369]_0.01.pickle\",\n",
    "        \"20160513_155413_ising_wolff_20_65536_[2.169-2.369]_0.01.pickle\",\n",
    "        \"20160601_122251_ising_wolff_30_65536_[2.169-2.369]_0.01.pickle\",\n",
    "        \"20160513_164844_ising_wolff_40_65536_[2.169-2.369]_0.01.pickle\"]\n",
    "(critical_temperature,\n",
    " critical_temperature_error,\n",
    " magnetizabilities,\n",
    " magnetizations,\n",
    " heat_capacities) = analysis.data_analysis(files2, save=SAVE_FILES)\n",
    "\n",
    "# _ = analysis.data_analysis(files + files2, save=SAVE_FILES)"
   ]
  },
  {
   "cell_type": "code",
   "execution_count": null,
   "metadata": {
    "collapsed": false
   },
   "outputs": [],
   "source": [
    "analysis.find_critical_exponents(critical_temperature,\n",
    "                                 critical_temperature_error,\n",
    "                                 magnetizabilities,\n",
    "                                 magnetizations,\n",
    "                                 heat_capacities, alpha=0, beta=1/8, gamma=7/4, nu=1, \n",
    "                                 save=True, heat_capacity_correction=-3)"
   ]
  },
  {
   "cell_type": "code",
   "execution_count": null,
   "metadata": {
    "collapsed": false,
    "scrolled": true
   },
   "outputs": [],
   "source": [
    "(gamma,\n",
    " gamma_error,\n",
    " nu,\n",
    " nu_error) = analysis.chi_squared_data_collapse(magnetizabilities, \n",
    "                                                critical_temperature, \n",
    "                                                critical_temperature_error, \n",
    "                                                gamma_over_nu, \n",
    "                                                gamma_over_nu_error, \n",
    "                                                \"gamma\", show_plots=False, save_plot=False, collapse_limit=1)\n",
    "alpha = 2 - 2 * nu\n",
    "alpha_error = 2 * nu_error\n",
    "beta = (2 - alpha - gamma) / 2\n",
    "beta_error = (alpha_error + gamma_error) / 2\n",
    "\n",
    "delta = (2-alpha) / beta - 1\n",
    "delta_error = ((alpha_error/alpha)**2 + (beta_error/beta)**2)**0.5\n",
    "\n",
    "eta = 2 - (gamma/nu)\n",
    "eta_error = eta * ((gamma_error / gamma)**2 + (nu_error/nu)**2 )**0.5\n",
    "\n",
    "print(\"alpha = {0} +/- {1}\".format(alpha, alpha_error))\n",
    "print(\"beta = {0} +/- {1}\".format(beta, beta_error))\n",
    "\n",
    "print(\"delta = {0} +/- {1}\".format(delta, delta_error))\n",
    "print(\"eta = {0} +/- {1}\".format(eta, eta_error))\n",
    "\n",
    "print(2 * nu, 2 - alpha) # Consistency check"
   ]
  },
  {
   "cell_type": "markdown",
   "metadata": {},
   "source": [
    "# All\n",
    "best gamma = 1.7590558080466812 +/- 0.009063089796743142\n",
    "best nu = 1.0 +/- 0.004444444444444449\n",
    "\n",
    "alpha = 0.0 +/- 0.008888888888888898\n",
    "beta = 0.12047209597665942 +/- 0.008975989342816019\n",
    "delta = 15.601354726886175 +/- inf\n",
    "eta = 0.24094419195331884 +/- 0.0016394607407486954\n",
    "\n",
    "# Leave out 10\n",
    "best gamma = 1.7707399725209545 +/- 0.007608620535598358\n",
    "best nu = 1.0066666666666666 +/- 0.004157397096415495\n",
    "\n",
    "alpha = -0.013333333333333197 +/- 0.00831479419283099\n",
    "beta = 0.12129668040618935 +/- 0.007961707364214674\n",
    "delta = 15.59842072009911 +/- 0.6270544432014011\n",
    "eta = 0.24098678226395243 +/- 0.0014362242512265385\n",
    "\n",
    "# Leave out 20\n",
    "best gamma = 1.7493005485168456 +/- 0.010601966286086334\n",
    "best nu = 0.9944444444444444 +/- 0.005237828008789246\n",
    "\n",
    "alpha = 0.011111111111111294 +/- 0.010475656017578492\n",
    "beta = 0.11979417018602156 +/- 0.010538811151832413\n",
    "delta = 15.602551574926025 +/- 0.9469046259194493\n",
    "eta = 0.24092682272049037 +/- 0.0019345416037409534\n",
    "\n",
    "# Leave out 30\n",
    "best gamma = 1.733630803221796 +/- 0.0061556855583895015\n",
    "best nu = 0.9855555555555555 +/- 0.0027715980642769957\n",
    "\n",
    "alpha = 0.028888888888888964 +/- 0.0055431961285539915\n",
    "beta = 0.11874015394465753 +/- 0.0058494408434717465\n",
    "delta = 15.600206801397675 +/- 0.19810270115549003\n",
    "eta = 0.24096085355172892 +/- 0.0010914325743968368\n",
    "# Leave out 40\n",
    "best gamma = 1.7805463404235506 +/- 0.007876179093350163\n",
    "best nu = 1.0122222222222221 +/- 0.003777051491550214\n",
    "\n",
    "alpha = -0.02444444444444427 +/- 0.007554102983100428\n",
    "beta = 0.12194905201044681 +/- 0.007715141038225296\n",
    "delta = 15.6007394979259 +/- 0.3154408897269819\n",
    "eta = 0.2409531214256908 +/- 0.001394423370942069\n"
   ]
  },
  {
   "cell_type": "code",
   "execution_count": null,
   "metadata": {
    "collapsed": false,
    "scrolled": true
   },
   "outputs": [],
   "source": [
    "(beta,\n",
    " beta_error,\n",
    " nu,\n",
    " nu_error) = analysis.chi_squared_data_collapse(magnetizations, \n",
    "                                                critical_temperature, \n",
    "                                                critical_temperature_error, \n",
    "                                                beta_over_nu, \n",
    "                                                beta_over_nu_error, \"beta\", show_plots=False, save_plot=False)\n",
    "beta *= -1\n",
    "alpha = 2 - 2 * nu\n",
    "alpha_error = 2 * nu_error\n",
    "\n",
    "gamma = 2 - alpha - 2 * beta\n",
    "gamma_error = alpha_error + 2 * beta_error\n",
    "\n",
    "delta = (2-alpha) / beta - 1\n",
    "delta_error = delta * ((alpha_error/alpha)**2 + (beta_error/beta)**2)**0.5\n",
    "\n",
    "eta = 2 - (gamma/nu)\n",
    "eta_error = eta * ((gamma_error / gamma)**2 + (nu_error/nu)**2 )**0.5\n",
    "\n",
    "\n",
    "print(\"alpha = {0} +/- {1}\".format(alpha, alpha_error))\n",
    "print(\"gamma = {0} +/- {1}\".format(gamma, gamma_error))\n",
    "print(\"delta = {0} +/- {1}\".format(delta, delta_error))\n",
    "print(\"eta = {0} +/- {1}\".format(eta, eta_error))\n",
    "\n",
    "# print(2 * nu, 2 - alpha) # Consistency check"
   ]
  },
  {
   "cell_type": "code",
   "execution_count": null,
   "metadata": {
    "collapsed": true
   },
   "outputs": [],
   "source": [
    "# All \n",
    "best beta = 0.12012881471032623 +/- 0.0007160876953124059\n",
    "best nu = 0.9599999999999999 +/- 0.0054433105395181635\n",
    "\n",
    "alpha = 0.0800000000000003 +/- 0.010886621079036327\n",
    "gamma = 1.6797423705793473 +/- 0.012318796469661138\n",
    "delta = 14.982843122441606 +/- 2.0408618960363123\n",
    "eta = 0.2502683639798464 +/- 0.0023200021960022295\n",
    "\n",
    "# Leave out 10\n",
    "best beta = 0.12026879221385456 +/- 0.0007961302352894111\n",
    "best nu = 0.9611111111111111 +/- 0.005972042776517434\n",
    "\n",
    "alpha = 0.07777777777777772 +/- 0.011944085553034868\n",
    "gamma = 1.6816846377945132 +/- 0.01353634602361369\n",
    "delta = 14.98271826663267 +/- 2.3029849167775014\n",
    "eta = 0.250270319057732 +/- 0.002544902886098298\n",
    "\n",
    "# Leave out 20\n",
    "\n",
    "best beta = 0.12096304259025906 +/- 0.001063997464971986\n",
    "best nu = 0.9666666666666666 +/- 0.008314794192830972\n",
    "\n",
    "alpha = 0.06666666666666687 +/- 0.016629588385661944\n",
    "gamma = 1.691407248152815 +/- 0.018757583315605918\n",
    "delta = 14.982843122441606 +/- 3.7397006192381643\n",
    "eta = 0.2502683639798462 +/- 0.0035124385335126365\n",
    "\n",
    "# Leave out 30\n",
    "best beta = 0.11957360231391055 +/- 0.0009011971001465245\n",
    "best nu = 0.9555555555555555 +/- 0.0068693470337005125\n",
    "\n",
    "alpha = 0.08888888888888902 +/- 0.013738694067401025\n",
    "gamma = 1.6719639064832899 +/- 0.015541088267694073\n",
    "delta = 14.982717540732505 +/- 2.318484967706082\n",
    "eta = 0.250270330424464 +/- 0.0029408484218684844\n",
    "\n",
    "# Leave out 40\n",
    "best beta = 0.11971170077035981 +/- 0.0005649086066227295\n",
    "best nu = 0.9566666666666666 +/- 0.004157397096415481\n",
    "\n",
    "alpha = 0.08666666666666689 +/- 0.008314794192830962\n",
    "gamma = 1.6739099317926134 +/- 0.009444611406076421\n",
    "delta = 14.98284312244161 +/- 1.4391907083420403\n",
    "eta = 0.2502683639798464 +/- 0.001782363159204641\n",
    "\n"
   ]
  },
  {
   "cell_type": "code",
   "execution_count": null,
   "metadata": {
    "collapsed": false
   },
   "outputs": [],
   "source": [
    "(alpha,\n",
    " alpha_error,\n",
    " nu, \n",
    " nu_error) = analysis.chi_squared_data_collapse(heat_capacities, \n",
    "                                                critical_temperature, \n",
    "                                                critical_temperature_error, \n",
    "                                                alpha_over_nu, \n",
    "                                                alpha_over_nu_error, \"alpha\", show_plots=True, save_plot=False,\n",
    "                                                heat_capacity_correction=-3)\n",
    "\n",
    "print(2 * nu, 2 - alpha)"
   ]
  }
 ],
 "metadata": {
  "kernelspec": {
   "display_name": "Python 3",
   "language": "python",
   "name": "python3"
  },
  "language_info": {
   "codemirror_mode": {
    "name": "ipython",
    "version": 3
   },
   "file_extension": ".py",
   "mimetype": "text/x-python",
   "name": "python",
   "nbconvert_exporter": "python",
   "pygments_lexer": "ipython3",
   "version": "3.5.1"
  }
 },
 "nbformat": 4,
 "nbformat_minor": 0
}

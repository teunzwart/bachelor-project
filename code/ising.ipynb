{
 "cells": [
  {
   "cell_type": "code",
   "execution_count": null,
   "metadata": {
    "collapsed": false
   },
   "outputs": [],
   "source": [
    "%matplotlib inline\n",
    "%load_ext autoreload\n",
    "% autoreload 2\n",
    "\n",
    "import matplotlib.pyplot as plt\n",
    "import numpy as np\n",
    "import seaborn\n",
    "\n",
    "import ising_model\n",
    "import exact_ising_model as exact\n",
    "import plotting\n",
    "import analysis\n",
    "import simulation"
   ]
  },
  {
   "cell_type": "code",
   "execution_count": null,
   "metadata": {
    "collapsed": false,
    "scrolled": false
   },
   "outputs": [],
   "source": [
    "simulation.lattice_size_range(range(4, 11, 2), \"ising\", \"metropolis\", 1, \"hi\", 5000, 2048, 1, 3, show_values=True, show_plots=True)"
   ]
  },
  {
   "cell_type": "markdown",
   "metadata": {
    "collapsed": true
   },
   "source": [
    "# Metropolis\n",
    "Lattice Size 4, Temperature 8.0\n",
    "Energy per Site: -0.2610626220703125 +/- 0.0018771324458461633\n",
    "Magnetization per Site: -1.9073486328125e-06 +/- 0.002077072882542814\n",
    "m (<|M|>/N): 0.26807212829589844 +/- 0.0010193575963454566\n",
    "Energy Squared: 54.25830078125 +/- 0.44047312300298547\n",
    "Magnetization Squared: 28.64300537109375 +/- 0.18814095808833015\n",
    "Heat Capacity per Site: 0.03599535199100501 +/- 0.00038559787097370484\n",
    "\n",
    "# Wolff\n",
    "Lattice Size 4, Temperature 8.0\n",
    "Energy per Site: -0.267791748046875 +/- 0.0032271910499994372\n",
    "Magnetization per Site: -0.0035552978515625 +/- 0.00286548199467902\n",
    "m (<|M|>/N): 0.2700157165527344 +/- 0.0012436922244417024\n",
    "Energy Squared: 55.67626953125 +/- 0.6168333494425499\n",
    "Magnetization Squared: 28.962158203125 +/- 0.23760101756071275\n",
    "Heat Capacity per Site: 0.036492407917194214 +/- 0.0004084473137390334\n",
    "\n",
    "# Corboz\n",
    "Energy per site : -0.263511657715  +/-  0.00150418036608\n",
    "Magnetization per site : 0.000926971435547  +/-  0.00199863921378\n",
    "m : 0.268798828125  +/-  0.000809964714865\n",
    "Energy squared : 54.658203125  +/-  0.391778044629\n",
    "Magnetization squared : 28.7371826172  +/-  0.149540865285"
   ]
  },
  {
   "cell_type": "code",
   "execution_count": null,
   "metadata": {
    "collapsed": true
   },
   "outputs": [],
   "source": []
  }
 ],
 "metadata": {
  "kernelspec": {
   "display_name": "Python 3",
   "language": "python",
   "name": "python3"
  },
  "language_info": {
   "codemirror_mode": {
    "name": "ipython",
    "version": 3
   },
   "file_extension": ".py",
   "mimetype": "text/x-python",
   "name": "python",
   "nbconvert_exporter": "python",
   "pygments_lexer": "ipython3",
   "version": "3.5.1"
  }
 },
 "nbformat": 4,
 "nbformat_minor": 0
}

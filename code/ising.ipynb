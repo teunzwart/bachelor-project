{
 "cells": [
  {
   "cell_type": "code",
   "execution_count": null,
   "metadata": {
    "collapsed": false
   },
   "outputs": [],
   "source": [
    "%matplotlib inline\n",
    "%load_ext autoreload\n",
    "% autoreload 2\n",
    "\n",
    "import matplotlib.pyplot as plt\n",
    "import numpy as np\n",
    "import seaborn\n",
    "\n",
    "import metropolis_ising\n",
    "import exact_ising_model as exact\n",
    "import plotting\n",
    "import analysis\n",
    "import simulation"
   ]
  },
  {
   "cell_type": "code",
   "execution_count": null,
   "metadata": {
    "collapsed": false
   },
   "outputs": [],
   "source": [
    "ising = metropolis_ising.MetropolisIsing(lattice_size=4, bond_energy=1, temperature=2.2, initial_temperature=\"hi\", sweeps=10000)\n",
    "plotting.show_lattice(ising.lattice)"
   ]
  },
  {
   "cell_type": "code",
   "execution_count": null,
   "metadata": {
    "collapsed": false
   },
   "outputs": [],
   "source": [
    "ising.metropolis(False)\n",
    "\n",
    "plotting.show_history(ising.magnetization_history, \"Magnetization\")\n",
    "plotting.show_history(ising.energy_history, \"Energy\")"
   ]
  },
  {
   "cell_type": "code",
   "execution_count": null,
   "metadata": {
    "collapsed": true
   },
   "outputs": [],
   "source": [
    "# Data gets normalized immediatly.\n",
    "equilibrium = 5000\n",
    "equilibrium_energy = ising.energy_history[equilibrium:] / ising.no_of_sites\n",
    "equilibrium_magnetization = ising.magnetization_history[equilibrium:] / ising.no_of_sites"
   ]
  },
  {
   "cell_type": "code",
   "execution_count": null,
   "metadata": {
    "collapsed": true
   },
   "outputs": [],
   "source": [
    "def binning_temperature_range(lattice_size, lower, upper, step=0.2):\n",
    "    energy_trange = []\n",
    "    energy_error_trange = []\n",
    "    energy_correlation_trange = []\n",
    "    \n",
    "    magnetization_trange = []\n",
    "    magnetization_error_trange = []\n",
    "    magnetization_correlation_trange = []\n",
    "    \n",
    "    specific_heat_trange = []\n",
    "    specific_heat_error_trange = []\n",
    "    \n",
    "    for temperature in np.arange(lower, upper, step):\n",
    "        ising = metropolis_ising.MetropolisIsing(lattice_size=lattice_size,\n",
    "                                                 bond_energy=1,\n",
    "                                                 temperature=temperature,\n",
    "                                                 initial_temperature=\"hi\",\n",
    "                                                 sweeps=10000)\n",
    "        ising.metropolis()\n",
    "        \n",
    "        equilibrium = 5000\n",
    "        equilibrium_energy = ising.energy_history[equilibrium:] / ising.no_of_sites\n",
    "        equilibrium_magnetization = ising.magnetization_history[5000:] / ising.no_of_sites\n",
    "        \n",
    "        (energy_correlation_time, \n",
    "         energy, \n",
    "         energy_error) = analysis.binning_method(equilibrium_energy, 10, \"Energy\")\n",
    "        (magnetization_correlation_time,\n",
    "         magnetization,\n",
    "         magnetization_error) = analysis.binning_method(np.absolute(equilibrium_magnetization), 10, \"Magnetization\")\n",
    "        \n",
    "        c = ising.heat_capacity(equilibrium_energy, temperature)\n",
    "        specific_heat_trange.append((temperature, c))\n",
    "        specific_heat_error_trange.append((temperature, analysis.bootstrap_method(equilibrium_energy, 100, temperature, ising.heat_capacity)))\n",
    "        \n",
    "        energy_trange.append((temperature, energy))\n",
    "        energy_error_trange.append((temperature, energy_error))\n",
    "        energy_correlation_trange.append((temperature, energy_correlation_time))\n",
    "        \n",
    "        magnetization_trange.append((temperature, np.absolute(magnetization)))\n",
    "        magnetization_error_trange.append((temperature, magnetization_error))\n",
    "        magnetization_correlation_trange.append((temperature, magnetization_correlation_time))\n",
    "    \n",
    "    return (energy_trange, \n",
    "            energy_error_trange,\n",
    "            energy_correlation_trange, \n",
    "            magnetization_trange,\n",
    "            magnetization_error_trange,\n",
    "            magnetization_correlation_trange, \n",
    "            specific_heat_trange, \n",
    "            specific_heat_error_trange)"
   ]
  },
  {
   "cell_type": "code",
   "execution_count": null,
   "metadata": {
    "collapsed": true
   },
   "outputs": [],
   "source": [
    "def lattice_size_range(lattice_sizes, lower, upper, operation, step=0.2):\n",
    "    lattice_sizes.sort()\n",
    "    energy_data = []\n",
    "    energy_error_data = []\n",
    "    energy_correlation_data = []\n",
    "    \n",
    "    magnetization_data = []\n",
    "    magnetization_error_data = []\n",
    "    magnetization_correlation_data = []\n",
    "    \n",
    "    specific_heat_data = []\n",
    "    specific_heat_error_data = []\n",
    "    for p in lattice_sizes:\n",
    "        print(\"Lattice Size is {0}.\".format(p))\n",
    "        (energy_trange, \n",
    "         energy_error_trange, \n",
    "         energy_correlation_trange, \n",
    "         magnetization_trange, \n",
    "         magnetization_error_trange, \n",
    "         magnetization_correlation_trange, \n",
    "         specific_heat_trange, \n",
    "         specific_heat_error_trange) = operation(p, lower, upper, step=step)\n",
    "        \n",
    "        energy_data.append(energy_trange)\n",
    "        energy_error_data.append(energy_error_trange)\n",
    "        energy_correlation_data.append(energy_correlation_trange)\n",
    "\n",
    "        magnetization_data.append(magnetization_trange)\n",
    "        magnetization_error_data.append(magnetization_error_trange)\n",
    "        magnetization_correlation_data.append(magnetization_correlation_trange)\n",
    "\n",
    "        specific_heat_data.append(specific_heat_trange)\n",
    "        specific_heat_error_data.append(specific_heat_error_trange)\n",
    "    \n",
    "    #TODO: Add other correlation functions and different temperature range functions.\n",
    "    for k in range(len(lattice_sizes)):\n",
    "        show = False\n",
    "        save=False\n",
    "        if k == len(lattice_sizes) - 1:\n",
    "            show = True\n",
    "            save=True\n",
    "        plotting.plot_correlation_time_range(magnetization_correlation_data[k], lattice_sizes[k], \"Magnetization\", show_plot=show, save=save)\n",
    "    for k in range(len(lattice_sizes)):\n",
    "        show = False\n",
    "        save = False\n",
    "        if k == len(lattice_sizes) - 1:\n",
    "            show = True\n",
    "        plotting.plot_correlation_time_range(energy_correlation_data[k], lattice_sizes[k], \"Energy\", show_plot=show, save=save)\n",
    "    for k in range(len(lattice_sizes)):\n",
    "        show = False\n",
    "        exact_energy = None\n",
    "        save = False\n",
    "        if k == len(lattice_sizes) - 1:\n",
    "            show = True\n",
    "            save = True\n",
    "            exact_energy = exact.internal_energy(1, lower, upper)\n",
    "        plotting.plot_quantity_range(energy_data[k], energy_error_data[k], lattice_sizes[k], \"Internal Energy per Spin\", show_plot=show, exact=exact_energy, save=save)\n",
    "    for k in range(len(lattice_sizes)):\n",
    "        show = False\n",
    "        exact_magnetization = None\n",
    "        save = False\n",
    "        if k == len(lattice_sizes) - 1:\n",
    "            show = True\n",
    "            save = True\n",
    "            exact_magnetization = exact.magnetization(1, lower, upper)\n",
    "        plotting.plot_quantity_range(magnetization_data[k], magnetization_error_data[k], lattice_sizes[k], \"Magnetization per Spin\", show_plot=show, exact=exact_magnetization, save=save)\n",
    "    for k in range(len(lattice_sizes)):\n",
    "        show = False\n",
    "        exact_specific_heat = None\n",
    "        save = False\n",
    "        if k == len(lattice_sizes) - 1:\n",
    "            show = True\n",
    "            exact_specific_heat = exact.heat_capacity(1, lower, upper)\n",
    "        plotting.plot_quantity_range(specific_heat_data[k], specific_heat_error_data[k], lattice_sizes[k], \"Specific Heat per Spin\", show_plot=show, exact=exact_specific_heat, save=save)"
   ]
  },
  {
   "cell_type": "code",
   "execution_count": null,
   "metadata": {
    "collapsed": false,
    "scrolled": false
   },
   "outputs": [],
   "source": [
    "lattice_size_range([4, 7, 10], 0.2, 5, binning_temperature_range)"
   ]
  },
  {
   "cell_type": "code",
   "execution_count": null,
   "metadata": {
    "collapsed": false
   },
   "outputs": [],
   "source": [
    "_, _, ct, data = analysis.binning_method(equilibrium_energy, 15, \"Energy\", False)\n",
    "print(data, \"\\n\")\n",
    "print(analysis.jackknife(data, analysis.heat_capacity, temperature=2.2, no_of_sites=16), \"\\n\")\n",
    "print(analysis.jackknife(equilibrium_energy, analysis.heat_capacity, temperature=2.2, no_of_sites=16), \"\\n\")\n",
    "\n",
    "print(analysis.bootstrap_method(equilibrium_energy, 100, analysis.heat_capacity, temperature=2.2, no_of_sites=16))"
   ]
  },
  {
   "cell_type": "code",
   "execution_count": null,
   "metadata": {
    "collapsed": false
   },
   "outputs": [],
   "source": [
    "(np.sum(data**2)/len(data) - np.mean(data)**2)*(16/2.2**2)"
   ]
  },
  {
   "cell_type": "code",
   "execution_count": null,
   "metadata": {
    "collapsed": false
   },
   "outputs": [],
   "source": [
    "0.78249292561983541/0.033864793040554411"
   ]
  },
  {
   "cell_type": "code",
   "execution_count": null,
   "metadata": {
    "collapsed": false
   },
   "outputs": [],
   "source": [
    "def jackknife(data, no_of_bins, operation, **kwargs):\n",
    "    \"\"\"Calculate errors using jackknife resampling.\"\"\"\n",
    "    data_length = len(data)\n",
    "    all_bin_estimate = operation(data, kwargs)\n",
    "    calculated_values = []\n",
    "    split_data = np.split(data, no_of_bins)\n",
    "    # From https://stackoverflow.com/questions/28056195/python-leave-one-out-estimation\n",
    "    mask = np.arange(1, no_of_bins) - np.tri(no_of_bins, no_of_bins - 1, k=-1, dtype=bool)\n",
    "    leave_one_out = np.asarray(split_data)[mask]\n",
    "    for m in leave_one_out:\n",
    "        value = operation(np.concatenate(m), kwargs)\n",
    "        calculated_values.append(value)\n",
    "    mean = np.sum(calculated_values) / no_of_bins\n",
    "    standard_error = np.sqrt((1 - 1 / data_length) * (np.sum(np.asarray(calculated_values)**2 - mean**2)))\n",
    "    bias = (no_of_bins - 1) * (mean - all_bin_estimate)\n",
    "    return all_bin_estimate, standard_error, bias\n",
    "\n",
    "jackknife(equilibrium_energy, 1000, analysis.heat_capacity, temperature=2.2, no_of_sites=16)"
   ]
  },
  {
   "cell_type": "markdown",
   "metadata": {},
   "source": []
  },
  {
   "cell_type": "code",
   "execution_count": null,
   "metadata": {
    "collapsed": true
   },
   "outputs": [],
   "source": []
  }
 ],
 "metadata": {
  "kernelspec": {
   "display_name": "Python 3",
   "language": "python",
   "name": "python3"
  },
  "language_info": {
   "codemirror_mode": {
    "name": "ipython",
    "version": 3
   },
   "file_extension": ".py",
   "mimetype": "text/x-python",
   "name": "python",
   "nbconvert_exporter": "python",
   "pygments_lexer": "ipython3",
   "version": "3.5.1"
  }
 },
 "nbformat": 4,
 "nbformat_minor": 0
}

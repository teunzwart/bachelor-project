{
 "cells": [
  {
   "cell_type": "code",
   "execution_count": null,
   "metadata": {
    "collapsed": false
   },
   "outputs": [],
   "source": [
    "%matplotlib inline\n",
    "%load_ext autoreload\n",
    "%autoreload 2\n",
    "%load_ext line_profiler\n",
    "\n",
    "import matplotlib.pyplot as plt\n",
    "import numpy as np\n",
    "import seaborn\n",
    "\n",
    "import ising_model\n",
    "import exact_ising_model as exact\n",
    "import plotting\n",
    "import analysis"
   ]
  },
  {
   "cell_type": "markdown",
   "metadata": {
    "collapsed": true
   },
   "source": [
    "# Metropolis\n",
    "Lattice Size 4, Temperature 8.0\n",
    "Energy per Site: -0.2610626220703125 +/- 0.0018771324458461633\n",
    "Magnetization per Site: -1.9073486328125e-06 +/- 0.002077072882542814\n",
    "m (<|M|>/N): 0.26807212829589844 +/- 0.0010193575963454566\n",
    "Energy Squared: 54.25830078125 +/- 0.44047312300298547\n",
    "Magnetization Squared: 28.64300537109375 +/- 0.18814095808833015\n",
    "Heat Capacity per Site: 0.03599535199100501 +/- 0.00038559787097370484\n",
    "\n",
    "# Wolff\n",
    "Lattice Size 4, Temperature 8.0\n",
    "Energy per Site: -0.267791748046875 +/- 0.0032271910499994372\n",
    "Magnetization per Site: -0.0035552978515625 +/- 0.00286548199467902\n",
    "m (<|M|>/N): 0.2700157165527344 +/- 0.0012436922244417024\n",
    "Energy Squared: 55.67626953125 +/- 0.6168333494425499\n",
    "Magnetization Squared: 28.962158203125 +/- 0.23760101756071275\n",
    "Heat Capacity per Site: 0.036492407917194214 +/- 0.0004084473137390334\n",
    "\n",
    "# Corboz\n",
    "Energy per site : -0.263511657715  +/-  0.00150418036608\n",
    "Magnetization per site : 0.000926971435547  +/-  0.00199863921378\n",
    "m : 0.268798828125  +/-  0.000809964714865\n",
    "Energy squared : 54.658203125  +/-  0.391778044629\n",
    "Magnetization squared : 28.7371826172  +/-  0.149540865285"
   ]
  },
  {
   "cell_type": "code",
   "execution_count": null,
   "metadata": {
    "collapsed": false,
    "scrolled": false
   },
   "outputs": [],
   "source": [
    "files = [\"20160513_153432_ising_wolff_10_65536_[2.169-2.369]_0.01.pickle\",\n",
    "        \"20160513_155413_ising_wolff_20_65536_[2.169-2.369]_0.01.pickle\",\n",
    "        \"20160513_164844_ising_wolff_40_65536_[2.169-2.369]_0.01.pickle\"]\n",
    "(critical_temperature,\n",
    " critical_temperature_error,\n",
    " magnetizabilities,\n",
    " magnetizations,\n",
    " heat_capacities) = analysis.data_analysis(files)"
   ]
  },
  {
   "cell_type": "code",
   "execution_count": null,
   "metadata": {
    "collapsed": false
   },
   "outputs": [],
   "source": [
    "analysis.find_critical_exponents(critical_temperature,\n",
    "                                 critical_temperature_error,\n",
    "                                 magnetizabilities,\n",
    "                                 magnetizations,\n",
    "                                 heat_capacities, alpha=0, beta=1/8, gamma=7/4, nu=1)"
   ]
  },
  {
   "cell_type": "code",
   "execution_count": null,
   "metadata": {
    "collapsed": false,
    "scrolled": true
   },
   "outputs": [],
   "source": [
    "analysis.chi_squared_data_collapse(magnetizabilities, critical_temperature, critical_temperature_error)"
   ]
  },
  {
   "cell_type": "code",
   "execution_count": null,
   "metadata": {
    "collapsed": false
   },
   "outputs": [],
   "source": [
    "files = [\"20160513_150716_ising_wolff_10_65536_[2.269-2.269]_0.1.pickle\",\n",
    "\"20160513_150831_ising_wolff_20_65536_[2.269-2.269]_0.1.pickle\",\n",
    "\"20160513_151121_ising_wolff_40_65536_[2.269-2.269]_0.1.pickle\",\n",
    "\"20160513_151640_ising_wolff_60_65536_[2.269-2.269]_0.1.pickle\",\n",
    "\"20160513_152459_ising_wolff_80_65536_[2.269-2.269]_0.1.pickle\"]\n",
    "\n",
    "(critical_temperature,\n",
    " critical_temperature_error,\n",
    " magnetizabilities,\n",
    " magnetizations,\n",
    " heat_capacities) = analysis.data_analysis(files, show_plots=False)"
   ]
  },
  {
   "cell_type": "code",
   "execution_count": null,
   "metadata": {
    "collapsed": false
   },
   "outputs": [],
   "source": [
    "beta_over_nu, beta_over_nu_error = analysis.loglog_exponent_finding(magnetizations, 'Magnetization')\n",
    "alpha_over_nu, alpha_over_nu_error = analysis.loglog_exponent_finding(heat_capacities, 'Heat Capacity')\n",
    "gamma_over_nu, gamma_over_nu_error = analysis.loglog_exponent_finding(magnetizabilities, 'Magnetizabilities')\n",
    "print(\"Beta/Nu = {0} +/- {1}\".format(beta_over_nu, beta_over_nu_error))\n",
    "print(\"Alpha/Nu = {0} +/- {1}\".format(alpha_over_nu, alpha_over_nu_error))\n",
    "print(\"Gamma/Nu = {0} +/- {1}\".format(gamma_over_nu, gamma_over_nu_error))"
   ]
  },
  {
   "cell_type": "code",
   "execution_count": null,
   "metadata": {
    "collapsed": false
   },
   "outputs": [],
   "source": []
  },
  {
   "cell_type": "code",
   "execution_count": null,
   "metadata": {
    "collapsed": true
   },
   "outputs": [],
   "source": []
  }
 ],
 "metadata": {
  "kernelspec": {
   "display_name": "Python 3",
   "language": "python",
   "name": "python3"
  },
  "language_info": {
   "codemirror_mode": {
    "name": "ipython",
    "version": 3
   },
   "file_extension": ".py",
   "mimetype": "text/x-python",
   "name": "python",
   "nbconvert_exporter": "python",
   "pygments_lexer": "ipython3",
   "version": "3.5.1"
  }
 },
 "nbformat": 4,
 "nbformat_minor": 0
}

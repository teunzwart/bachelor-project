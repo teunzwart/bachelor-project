{
 "cells": [
  {
   "cell_type": "code",
   "execution_count": null,
   "metadata": {
    "collapsed": false
   },
   "outputs": [],
   "source": [
    "%matplotlib inline\n",
    "%load_ext autoreload\n",
    "%autoreload 2\n",
    "%load_ext line_profiler\n",
    "\n",
    "import matplotlib.pyplot as plt\n",
    "import numpy as np\n",
    "import seaborn\n",
    "\n",
    "import ising_model\n",
    "import exact_ising_model as exact\n",
    "import plotting\n",
    "import analysis\n",
    "import simulation"
   ]
  },
  {
   "cell_type": "markdown",
   "metadata": {
    "collapsed": true
   },
   "source": [
    "# Metropolis\n",
    "Lattice Size 4, Temperature 8.0\n",
    "Energy per Site: -0.2610626220703125 +/- 0.0018771324458461633\n",
    "Magnetization per Site: -1.9073486328125e-06 +/- 0.002077072882542814\n",
    "m (<|M|>/N): 0.26807212829589844 +/- 0.0010193575963454566\n",
    "Energy Squared: 54.25830078125 +/- 0.44047312300298547\n",
    "Magnetization Squared: 28.64300537109375 +/- 0.18814095808833015\n",
    "Heat Capacity per Site: 0.03599535199100501 +/- 0.00038559787097370484\n",
    "\n",
    "# Wolff\n",
    "Lattice Size 4, Temperature 8.0\n",
    "Energy per Site: -0.267791748046875 +/- 0.0032271910499994372\n",
    "Magnetization per Site: -0.0035552978515625 +/- 0.00286548199467902\n",
    "m (<|M|>/N): 0.2700157165527344 +/- 0.0012436922244417024\n",
    "Energy Squared: 55.67626953125 +/- 0.6168333494425499\n",
    "Magnetization Squared: 28.962158203125 +/- 0.23760101756071275\n",
    "Heat Capacity per Site: 0.036492407917194214 +/- 0.0004084473137390334\n",
    "\n",
    "# Corboz\n",
    "Energy per site : -0.263511657715  +/-  0.00150418036608\n",
    "Magnetization per site : 0.000926971435547  +/-  0.00199863921378\n",
    "m : 0.268798828125  +/-  0.000809964714865\n",
    "Energy squared : 54.658203125  +/-  0.391778044629\n",
    "Magnetization squared : 28.7371826172  +/-  0.149540865285"
   ]
  },
  {
   "cell_type": "code",
   "execution_count": null,
   "metadata": {
    "collapsed": false
   },
   "outputs": [],
   "source": [
    "ising = ising_model.IsingModel(4, 1, 2.2, \"hi\", 70536)\n",
    "ising.metropolis(False)\n",
    "equilibrium = 5000\n",
    "equi_energy = ising.energy_history[5000:] / ising.no_of_sites\n",
    "equi_mag = ising.magnetization_history[5000:] / ising.no_of_sites"
   ]
  },
  {
   "cell_type": "code",
   "execution_count": null,
   "metadata": {
    "collapsed": false
   },
   "outputs": [],
   "source": [
    "bin_en_sq = analysis.binning(equi_energy**2, 8, \"Energy Squared\", show_plot=True)[-1]\n",
    "print(bin_en_sq)\n",
    "bin_en = analysis.binning(equi_energy, 8, \"Energy\", show_plot=True)[-1]\n",
    "print(bin_en)\n",
    "16/2.2*(np.mean(bin_en_sq) - np.mean(bin_en)**2)\n",
    "# print(analysis.jackknife([bin_en, bin_en_sq], 8, analysis.heat_capacity, temperature=4, no_of_sites=16))"
   ]
  },
  {
   "cell_type": "code",
   "execution_count": null,
   "metadata": {
    "collapsed": false,
    "scrolled": false
   },
   "outputs": [],
   "source": [
    "simulation.uncoupled_simulation(\"ising\", \"wolff\", 4, 1, \"hi\", 5000, 65536, 5)"
   ]
  },
  {
   "cell_type": "code",
   "execution_count": null,
   "metadata": {
    "collapsed": false
   },
   "outputs": [],
   "source": [
    "ising = ising_model.IsingModel(400, 1, 3, \"hi\", 9096)"
   ]
  },
  {
   "cell_type": "code",
   "execution_count": null,
   "metadata": {
    "collapsed": false
   },
   "outputs": [],
   "source": [
    "%lprun -f ising.wolff ising.wolff()"
   ]
  },
  {
   "cell_type": "code",
   "execution_count": null,
   "metadata": {
    "collapsed": false
   },
   "outputs": [],
   "source": [
    "sizes = []\n",
    "for n in np.arange(1, 5, 0.2):\n",
    "    ising = ising_model.IsingModel(4, 1, n, \"hi\", 9096)\n",
    "    sizes.append(np.mean(ising.wolff()))\n",
    "\n",
    "plt.plot(np.arange(1, 5, 0.2), sizes)"
   ]
  },
  {
   "cell_type": "code",
   "execution_count": null,
   "metadata": {
    "collapsed": false
   },
   "outputs": [],
   "source": [
    "sizes = [s / 16 for s in sizes]\n",
    "plt.plot(np.arange(1, 5, 0.2), sizes)"
   ]
  },
  {
   "cell_type": "code",
   "execution_count": null,
   "metadata": {
    "collapsed": true
   },
   "outputs": [],
   "source": [
    "ising = ising_model.IsingModel(4, 1, 3, \"hi\", 9096)\n",
    "sizes = ising.wolff()"
   ]
  },
  {
   "cell_type": "code",
   "execution_count": null,
   "metadata": {
    "collapsed": true
   },
   "outputs": [],
   "source": [
    "equi_e = ising.energy_history[5000:] / ising.no_of_sites\n",
    "equi_m = ising.magnetization_history[5000:] / ising.no_of_sites"
   ]
  },
  {
   "cell_type": "code",
   "execution_count": null,
   "metadata": {
    "collapsed": false
   },
   "outputs": [],
   "source": [
    "analysis.binning(equi_e, \"Energy\", True)"
   ]
  },
  {
   "cell_type": "code",
   "execution_count": null,
   "metadata": {
    "collapsed": false,
    "scrolled": false
   },
   "outputs": [],
   "source": [
    "simulation.uncoupled_simulation(\"ising\", \"metropolis\", 4, 1, 8, \"hi\", 5000, 65536, True)"
   ]
  },
  {
   "cell_type": "code",
   "execution_count": null,
   "metadata": {
    "collapsed": false
   },
   "outputs": [],
   "source": [
    "simulation.simulation_range(\"ising\", \"wolff\", [4, 10, 20], 1, \"lo\", 5000, 4096, 2, 3)"
   ]
  },
  {
   "cell_type": "code",
   "execution_count": null,
   "metadata": {
    "collapsed": false
   },
   "outputs": [],
   "source": [
    "ising = ising_model.IsingModel(100, 1, 1, \"lo\", 9096)\n",
    "sizes = ising.wolff()"
   ]
  },
  {
   "cell_type": "code",
   "execution_count": null,
   "metadata": {
    "collapsed": false
   },
   "outputs": [],
   "source": [
    "plotting.show_history(ising.energy_history[:10]/ising.no_of_sites, \"Energy\")\n",
    "plotting.show_history(ising.magnetization_history[:10]/ising.no_of_sites, \"Magnetization\")"
   ]
  },
  {
   "cell_type": "code",
   "execution_count": null,
   "metadata": {
    "collapsed": false
   },
   "outputs": [],
   "source": [
    "%lprun -f ising.metropolis ising.metropolis()"
   ]
  },
  {
   "cell_type": "code",
   "execution_count": null,
   "metadata": {
    "collapsed": false
   },
   "outputs": [],
   "source": [
    "simulation.simulation_range(\"ising\", \"wolff\", [10, 20, 40], 1, \"lo\", 10000, 65536, 2, 3, step=0.1)"
   ]
  },
  {
   "cell_type": "code",
   "execution_count": null,
   "metadata": {
    "collapsed": false
   },
   "outputs": [],
   "source": [
    "ising = ising_model.IsingModel(40, 1, 3, \"lo\", 70536)\n",
    "%timeit -n 1 -r 1 sizes = ising.wolff()"
   ]
  },
  {
   "cell_type": "code",
   "execution_count": null,
   "metadata": {
    "collapsed": false
   },
   "outputs": [],
   "source": [
    "np.linspace(2, 3, 11)"
   ]
  },
  {
   "cell_type": "code",
   "execution_count": null,
   "metadata": {
    "collapsed": true
   },
   "outputs": [],
   "source": []
  }
 ],
 "metadata": {
  "kernelspec": {
   "display_name": "Python 3",
   "language": "python",
   "name": "python3"
  },
  "language_info": {
   "codemirror_mode": {
    "name": "ipython",
    "version": 3
   },
   "file_extension": ".py",
   "mimetype": "text/x-python",
   "name": "python",
   "nbconvert_exporter": "python",
   "pygments_lexer": "ipython3",
   "version": "3.5.1"
  }
 },
 "nbformat": 4,
 "nbformat_minor": 0
}

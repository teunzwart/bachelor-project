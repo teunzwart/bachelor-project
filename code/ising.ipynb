{
 "cells": [
  {
   "cell_type": "code",
   "execution_count": null,
   "metadata": {
    "collapsed": false
   },
   "outputs": [],
   "source": [
    "%matplotlib inline\n",
    "%load_ext autoreload\n",
    "%autoreload 2\n",
    "%load_ext line_profiler\n",
    "\n",
    "import matplotlib.pyplot as plt\n",
    "import numpy as np\n",
    "import seaborn\n",
    "\n",
    "import ising_model\n",
    "import exact_ising_model as exact\n",
    "import plotting\n",
    "import analysis\n",
    "import simulation"
   ]
  },
  {
   "cell_type": "markdown",
   "metadata": {
    "collapsed": true
   },
   "source": [
    "# Metropolis\n",
    "Lattice Size 4, Temperature 8.0\n",
    "Energy per Site: -0.2610626220703125 +/- 0.0018771324458461633\n",
    "Magnetization per Site: -1.9073486328125e-06 +/- 0.002077072882542814\n",
    "m (<|M|>/N): 0.26807212829589844 +/- 0.0010193575963454566\n",
    "Energy Squared: 54.25830078125 +/- 0.44047312300298547\n",
    "Magnetization Squared: 28.64300537109375 +/- 0.18814095808833015\n",
    "Heat Capacity per Site: 0.03599535199100501 +/- 0.00038559787097370484\n",
    "\n",
    "# Wolff\n",
    "Lattice Size 4, Temperature 8.0\n",
    "Energy per Site: -0.267791748046875 +/- 0.0032271910499994372\n",
    "Magnetization per Site: -0.0035552978515625 +/- 0.00286548199467902\n",
    "m (<|M|>/N): 0.2700157165527344 +/- 0.0012436922244417024\n",
    "Energy Squared: 55.67626953125 +/- 0.6168333494425499\n",
    "Magnetization Squared: 28.962158203125 +/- 0.23760101756071275\n",
    "Heat Capacity per Site: 0.036492407917194214 +/- 0.0004084473137390334\n",
    "\n",
    "# Corboz\n",
    "Energy per site : -0.263511657715  +/-  0.00150418036608\n",
    "Magnetization per site : 0.000926971435547  +/-  0.00199863921378\n",
    "m : 0.268798828125  +/-  0.000809964714865\n",
    "Energy squared : 54.658203125  +/-  0.391778044629\n",
    "Magnetization squared : 28.7371826172  +/-  0.149540865285"
   ]
  },
  {
   "cell_type": "code",
   "execution_count": null,
   "metadata": {
    "collapsed": false
   },
   "outputs": [],
   "source": [
    "simulation.simulation_range(\"ising\", \"wolff\", [10, 20, 40], 1, \"lo\", 5000, 65536, 2.169, 2.369, step=0.01)"
   ]
  },
  {
   "cell_type": "code",
   "execution_count": null,
   "metadata": {
    "collapsed": true
   },
   "outputs": [],
   "source": [
    "# T=2\n",
    "10 by 10: 1 loop, best of 1: 33.7 s per loop\n",
    "20 by 20: 1 loop, best of 1: 1min 20s per loop\n",
    "        \n",
    "# T=3\n",
    "10 by 10: 1 loop, best of 1: 11.6 s per loop\n",
    "20 by 20: 1 loop, best of 1: 10.8 s per loop"
   ]
  },
  {
   "cell_type": "code",
   "execution_count": null,
   "metadata": {
    "collapsed": false,
    "scrolled": false
   },
   "outputs": [],
   "source": [
    "files = [\"20160510_112747_ising_wolff_10_65536_[2-3]_0.1.pickle\",\n",
    "\"20160510_113429_ising_wolff_20_65536_[2-3]_0.1.pickle\",\n",
    "\"20160510_115100_ising_wolff_40_65536_[2-3]_0.1.pickle\"]\n",
    "files = [\"20160510_112747_ising_wolff_10_65536_[2-3]_0.1.pickle\", \n",
    "        \"20160510_113429_ising_wolff_20_65536_[2-3]_0.1.pickle\",\n",
    "        \"20160510_115100_ising_wolff_40_65536_[2-3]_0.1.pickle\"]\n",
    "(critical_temperature,\n",
    " critical_temperature_error,\n",
    " magnetizabilities,\n",
    " magnetizations,\n",
    " heat_capacities) = analysis.data_analysis(files)"
   ]
  },
  {
   "cell_type": "code",
   "execution_count": null,
   "metadata": {
    "collapsed": false
   },
   "outputs": [],
   "source": [
    "analysis.find_critical_exponents(critical_temperature,\n",
    "                                 critical_temperature_error,\n",
    "                                 magnetizabilities,\n",
    "                                 magnetizations,\n",
    "                                 heat_capacities, alpha=0.4, beta=1/8, gamma=7/4, nu=1)"
   ]
  },
  {
   "cell_type": "code",
   "execution_count": null,
   "metadata": {
    "collapsed": false,
    "scrolled": true
   },
   "outputs": [],
   "source": [
    "analysis.chi_squared_data_collapse(magnetizabilities, \"Magnetizability\", 2.269, critical_temperature_error)"
   ]
  },
  {
   "cell_type": "code",
   "execution_count": null,
   "metadata": {
    "collapsed": false
   },
   "outputs": [],
   "source": [
    "data = analysis.open_simulation_files([\"20160513_150716_ising_wolff_10_65536_[2.269-2.269]_0.1.pickle\",\n",
    "\"20160513_150831_ising_wolff_20_65536_[2.269-2.269]_0.1.pickle\",\n",
    "\"20160513_151121_ising_wolff_40_65536_[2.269-2.269]_0.1.pickle\",\n",
    "\"20160513_151640_ising_wolff_60_65536_[2.269-2.269]_0.1.pickle\",\n",
    "\"20160513_152459_ising_wolff_80_65536_[2.269-2.269]_0.1.pickle\"])"
   ]
  },
  {
   "cell_type": "code",
   "execution_count": null,
   "metadata": {
    "collapsed": false
   },
   "outputs": [],
   "source": [
    "lattice_sizes = []\n",
    "magnetizations_log = []\n",
    "\n",
    "import scipy.stats\n",
    "\n",
    "for k in data:\n",
    "    lattice_size = np.log(k[0][0][0])\n",
    "    magnetization_log = np.log(k[0][1][\"m\"])\n",
    "    lattice_sizes.append(lattice_size)\n",
    "    magnetizations_log.append(magnetization_log)\n",
    "    print(lattice_size, magnetization)\n",
    "    \n",
    "lattice_sizes = np.asarray(lattice_sizes)\n",
    "magnetizations_log = np.asarray(magnetizations_log)\n",
    "slope, intercept, r_value, p_value, std_err = scipy.stats.linregress(lattice_sizes, magnetizations_log)\n",
    "print(-slope, std_err)\n",
    "plt.plot(lattice_sizes, magnetizations_log)\n",
    "plt.show()\n",
    "\n"
   ]
  },
  {
   "cell_type": "code",
   "execution_count": null,
   "metadata": {
    "collapsed": false
   },
   "outputs": [],
   "source": [
    "import itertools\n",
    "\n",
    "def chi_squared_data_collapse(data, quantity, critical_temperature,\n",
    "                              critical_temperature_error, ratio, ratio_error):\n",
    "    \"\"\"Find the critical exponents for the magnetizability.\"\"\"\n",
    "    beta_estimate = []\n",
    "    nu_estimate = []\n",
    "    for k in [-1, 0, 1]:\n",
    "        critical_temperature += k * critical_temperature_error\n",
    "        for p in [-1, 0, 1]:\n",
    "            lowest_residual = np.inf\n",
    "            best_nu = 0\n",
    "            best_beta = 0\n",
    "            for nu in np.linspace(0, 1, 101):\n",
    "                beta = (ratio + p * ratio_error) * nu\n",
    "                scaling_functions = []\n",
    "                for d in data:\n",
    "                    scaling_function_at_size = []\n",
    "                    lattice_size = d[0]\n",
    "                    values = d[1]\n",
    "                    for v in values:\n",
    "                        t = (v[0] - critical_temperature) / critical_temperature\n",
    "                        scaling_variable = lattice_size**(1 / nu) * t\n",
    "                        v_tilde = lattice_size**(beta / nu) * v[1]\n",
    "                        # print(v_tilde, lattice_size**(gamma / nu), v[1])\n",
    "                        scaling_function_at_size.append((scaling_variable, v_tilde))\n",
    "                    scaling_functions.append([lattice_size, scaling_function_at_size])\n",
    "\n",
    "                # print(\"alpha={0}, nu={1}\".format(alpha, nu))\n",
    "                # print(scaling_functions)\n",
    "                at_interval = [a for a in list(itertools.chain(*[s[1] for s in scaling_functions])) if -5 <= a[0] <= 2.5]\n",
    "                if len(at_interval) >= 10:\n",
    "                    at_interval_x, at_interval_y = zip(*at_interval)\n",
    "                    polynomial, residuals, _, _, _ = np.polyfit(at_interval_x, at_interval_y, 5, full=True)\n",
    "                    if residuals < lowest_residual:\n",
    "                        lowest_residual = residuals\n",
    "                        best_nu = nu\n",
    "                        best_beta = beta\n",
    "#                         print(\"beta={0}, nu={1}, residual={2}\".format(best_beta, best_nu, residuals))\n",
    "#                         f = np.poly1d(polynomial)\n",
    "\n",
    "#                         x_new = np.linspace(min(at_interval_x), max(at_interval_x), 50)\n",
    "#                         y_new = f(x_new)\n",
    "\n",
    "#                         plt.plot(at_interval_x, at_interval_y, 'o', x_new, y_new)\n",
    "#                         plt.show()\n",
    "            print(\"best beta = {0}, best nu = {1}\".format(best_beta, best_nu))\n",
    "            beta_estimate.append(best_beta)\n",
    "            nu_estimate.append(best_nu)\n",
    "            \n",
    "    print(np.mean(beta_estimate), analysis.calculate_error(beta_estimate))\n",
    "    print(np.mean(nu_estimate), analysis.calculate_error(nu_estimate))"
   ]
  },
  {
   "cell_type": "code",
   "execution_count": null,
   "metadata": {
    "collapsed": false,
    "scrolled": false
   },
   "outputs": [],
   "source": [
    "chi_squared_data_collapse(magnetizations, \"Magnetization\", critical_temperature, critical_temperature_error, -slope, std_err)"
   ]
  },
  {
   "cell_type": "code",
   "execution_count": null,
   "metadata": {
    "collapsed": false,
    "scrolled": false
   },
   "outputs": [],
   "source": [
    "files = [\"20160513_153432_ising_wolff_10_65536_[2.169-2.369]_0.01.pickle\",\n",
    "        \"20160513_155413_ising_wolff_20_65536_[2.169-2.369]_0.01.pickle\",\n",
    "        \"20160513_164844_ising_wolff_40_65536_[2.169-2.369]_0.01.pickle\"]\n",
    "(critical_temperature,\n",
    " critical_temperature_error,\n",
    " magnetizabilities,\n",
    " magnetizations,\n",
    " heat_capacities) = analysis.data_analysis(files)"
   ]
  },
  {
   "cell_type": "code",
   "execution_count": null,
   "metadata": {
    "collapsed": false
   },
   "outputs": [],
   "source": [
    "analysis.data_collapse(magnetizabilities, \"Magnetizability\", critical_temperature, 0.2, 1, \"beta\", \"nu\")"
   ]
  },
  {
   "cell_type": "code",
   "execution_count": null,
   "metadata": {
    "collapsed": false,
    "scrolled": true
   },
   "outputs": [],
   "source": [
    "analysis.chi_squared_data_collapse(heat_capacities, critical_temperature, critical_temperature_error)"
   ]
  },
  {
   "cell_type": "code",
   "execution_count": null,
   "metadata": {
    "collapsed": false
   },
   "outputs": [],
   "source": [
    "analysis.data_collapse(magnetizabilities, \"Magnetizability\", 2.269, 0.125, 1, \"beta\", \"nu\")"
   ]
  },
  {
   "cell_type": "code",
   "execution_count": null,
   "metadata": {
    "collapsed": false
   },
   "outputs": [],
   "source": [
    "ising = ising_model.IsingModel(10, 1, 2, \"hi\", 2000)\n",
    "%lprun -f ising.wolff ising.wolff()"
   ]
  },
  {
   "cell_type": "code",
   "execution_count": null,
   "metadata": {
    "collapsed": true
   },
   "outputs": [],
   "source": []
  }
 ],
 "metadata": {
  "kernelspec": {
   "display_name": "Python 3",
   "language": "python",
   "name": "python3"
  },
  "language_info": {
   "codemirror_mode": {
    "name": "ipython",
    "version": 3
   },
   "file_extension": ".py",
   "mimetype": "text/x-python",
   "name": "python",
   "nbconvert_exporter": "python",
   "pygments_lexer": "ipython3",
   "version": "3.5.1"
  }
 },
 "nbformat": 4,
 "nbformat_minor": 0
}

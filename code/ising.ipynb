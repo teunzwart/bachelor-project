{
 "cells": [
  {
   "cell_type": "code",
   "execution_count": null,
   "metadata": {
    "collapsed": false
   },
   "outputs": [],
   "source": [
    "%matplotlib inline\n",
    "%load_ext autoreload\n",
    "%autoreload 2\n",
    "%load_ext line_profiler\n",
    "\n",
    "import matplotlib.pyplot as plt\n",
    "import numpy as np\n",
    "\n",
    "import ising_model\n",
    "import exact_ising_model as exact\n",
    "import plotting\n",
    "import analysis\n",
    "import simulation\n",
    "SAVE_FILES = True # Set this to true if you want to save plots."
   ]
  },
  {
   "cell_type": "markdown",
   "metadata": {
    "collapsed": true
   },
   "source": [
    "# Metropolis\n",
    "## Lattice Size 4, Temperature 8.0  \n",
    "Energy per Site: -0.2610626220703125 +/- 0.0018771324458461633  \n",
    "Magnetization per Site: -1.9073486328125e-06 +/- 0.002077072882542814  \n",
    "m (<|M|>/N): 0.26807212829589844 +/- 0.0010193575963454566  \n",
    "Energy Squared: 54.25830078125 +/- 0.44047312300298547  \n",
    "Magnetization Squared: 28.64300537109375 +/- 0.18814095808833015  \n",
    "Heat Capacity per Site: 0.03599535199100501 +/- 0.00038559787097370484  \n",
    "\n",
    "# Wolff\n",
    "## Lattice Size 4, Temperature 8.0  \n",
    "Energy per Site: -0.267791748046875 +/- 0.0032271910499994372  \n",
    "Magnetization per Site: -0.0035552978515625 +/- 0.00286548199467902  \n",
    "m (<|M|>/N): 0.2700157165527344 +/- 0.0012436922244417024  \n",
    "Energy Squared: 55.67626953125 +/- 0.6168333494425499  \n",
    "Magnetization Squared: 28.962158203125 +/- 0.23760101756071275  \n",
    "Heat Capacity per Site: 0.036492407917194214 +/- 0.0004084473137390334  \n",
    "\n",
    "# Corboz\n",
    "Energy per site : -0.263511657715  +/-  0.00150418036608  \n",
    "Magnetization per site : 0.000926971435547  +/-  0.00199863921378  \n",
    "m : 0.268798828125  +/-  0.000809964714865  \n",
    "Energy squared : 54.658203125  +/-  0.391778044629  \n",
    "Magnetization squared : 28.7371826172  +/-  0.149540865285  "
   ]
  },
  {
   "cell_type": "code",
   "execution_count": null,
   "metadata": {
    "collapsed": false
   },
   "outputs": [],
   "source": [
    "files = [\"20160513_150716_ising_wolff_10_65536_[2.269-2.269]_0.1.pickle\",\n",
    "\"20160513_150831_ising_wolff_20_65536_[2.269-2.269]_0.1.pickle\",\n",
    "\"20160513_151121_ising_wolff_40_65536_[2.269-2.269]_0.1.pickle\",\n",
    "\"20160513_151640_ising_wolff_60_65536_[2.269-2.269]_0.1.pickle\",\n",
    "\"20160513_152459_ising_wolff_80_65536_[2.269-2.269]_0.1.pickle\"]\n",
    "\n",
    "(critical_temperature,\n",
    " critical_temperature_error,\n",
    " magnetizabilities,\n",
    " magnetizations,\n",
    " heat_capacities) = analysis.data_analysis(files, show_plots=False)\n",
    "\n",
    "beta_over_nu, beta_over_nu_error = analysis.loglog_exponent_finding(magnetizations, 'Magnetization', save=SAVE_FILES)\n",
    "alpha_over_nu, alpha_over_nu_error = analysis.loglog_exponent_finding(heat_capacities, 'Heat Capacity', save=SAVE_FILES)\n",
    "gamma_over_nu, gamma_over_nu_error = analysis.loglog_exponent_finding(magnetizabilities, 'Susceptibility', save=SAVE_FILES)\n",
    "print(\"Beta/Nu = {0} +/- {1}\".format(-beta_over_nu, beta_over_nu_error))\n",
    "print(\"Alpha/Nu = {0} +/- {1}\".format(alpha_over_nu, alpha_over_nu_error))\n",
    "print(\"Gamma/Nu = {0} +/- {1}\".format(gamma_over_nu, gamma_over_nu_error))"
   ]
  },
  {
   "cell_type": "code",
   "execution_count": null,
   "metadata": {
    "collapsed": false,
    "scrolled": false
   },
   "outputs": [],
   "source": [
    "files = [\"20160510_112747_ising_wolff_10_65536_[2-3]_0.1.pickle\",\n",
    "         \"20160510_113429_ising_wolff_20_65536_[2-3]_0.1.pickle\",\n",
    "         \"20160510_115100_ising_wolff_40_65536_[2-3]_0.1.pickle\"]\n",
    "\n",
    "# (critical_temperature,\n",
    "#  critical_temperature_error,\n",
    "#  magnetizabilities,\n",
    "#  magnetizations,\n",
    "#  heat_capacities) = analysis.data_analysis(files, save=SAVE_FILES)\n",
    "\n",
    "files2 = [\"20160513_153432_ising_wolff_10_65536_[2.169-2.369]_0.01.pickle\",\n",
    "        \"20160513_155413_ising_wolff_20_65536_[2.169-2.369]_0.01.pickle\",\n",
    "        \"20160601_122251_ising_wolff_30_65536_[2.169-2.369]_0.01.pickle\",\n",
    "        \"20160513_164844_ising_wolff_40_65536_[2.169-2.369]_0.01.pickle\"]\n",
    "(critical_temperature,\n",
    " critical_temperature_error,\n",
    " magnetizabilities,\n",
    " magnetizations,\n",
    " heat_capacities) = analysis.data_analysis(files2, save=SAVE_FILES)\n",
    "\n",
    "# _ = analysis.data_analysis(files + files2, save=SAVE_FILES)"
   ]
  },
  {
   "cell_type": "code",
   "execution_count": null,
   "metadata": {
    "collapsed": false,
    "scrolled": false
   },
   "outputs": [],
   "source": [
    "analysis.find_critical_exponents(critical_temperature,\n",
    "                             critical_temperature_error,\n",
    "                             magnetizabilities,\n",
    "                             magnetizations,\n",
    "                             heat_capacities, alpha=0, beta=1/8, gamma=1.75, nu=1, save=False)\n"
   ]
  },
  {
   "cell_type": "code",
   "execution_count": null,
   "metadata": {
    "collapsed": false,
    "scrolled": true
   },
   "outputs": [],
   "source": [
    "(gamma,\n",
    " gamma_error,\n",
    " nu,\n",
    " nu_error) = analysis.chi_squared_data_collapse(magnetizabilities, \n",
    "                                                critical_temperature, \n",
    "                                                critical_temperature_error, \n",
    "                                                gamma_over_nu, \n",
    "                                                gamma_over_nu_error, \n",
    "                                                \"gamma\", show_plots=True, save_plot=True)\n",
    "alpha = 2 - 2 * nu\n",
    "alpha_error = 2 * nu_error\n",
    "beta = (2 - alpha - gamma) / 2\n",
    "beta_error = (alpha_error + gamma_error) / 2\n",
    "print(\"alpha = {0} +/- {1}\".format(alpha, alpha_error))\n",
    "print(\"beta = {0} +/- {1}\".format(beta, beta_error))"
   ]
  },
  {
   "cell_type": "code",
   "execution_count": null,
   "metadata": {
    "collapsed": false,
    "scrolled": true
   },
   "outputs": [],
   "source": [
    "(beta,\n",
    " beta_error,\n",
    " nu,\n",
    " nu_error) = analysis.chi_squared_data_collapse(magnetizations, \n",
    "                                                critical_temperature, \n",
    "                                                critical_temperature_error, \n",
    "                                                beta_over_nu, \n",
    "                                                beta_over_nu_error, \"beta\", show_plots=True, save_plot=True)\n",
    "beta *= -1\n",
    "alpha = 2 - 2 * nu\n",
    "alpha_error = 2 * nu_error\n",
    "gamma = 2 - alpha - 2 * beta\n",
    "gamma_error = alpha_error + 2 * beta_error\n",
    "print(\"alpha = {0} +/- {1}\".format(alpha, alpha_error))\n",
    "print(\"gamma = {0} +/- {1}\".format(gamma, gamma_error))"
   ]
  },
  {
   "cell_type": "code",
   "execution_count": null,
   "metadata": {
    "collapsed": false
   },
   "outputs": [],
   "source": [
    "(alpha,\n",
    " alpha_error,\n",
    " nu, \n",
    " nu_error) = analysis.chi_squared_data_collapse(heat_capacities, \n",
    "                                                critical_temperature, \n",
    "                                                critical_temperature_error, \n",
    "                                                alpha_over_nu, \n",
    "                                                alpha_over_nu_error, \"alpha\", show_plots=True, save_plot=True)\n",
    "\n",
    "print(2 * nu, 2 - alpha)\n",
    "\n"
   ]
  },
  {
   "cell_type": "markdown",
   "metadata": {
    "collapsed": true
   },
   "source": [
    "best $\\gamma$ = 1.7266666666666666 +/- 0.009525793444156843, best nu = 0.9866666666666667 +/- 0.005443310539518178  \n",
    "best $\\beta$ = 0.08291666666666668 +/- 0.0026571008985706956, best nu = 0.6633333333333334 +/- 0.021256807188565565  \n",
    "best $\\alpha$ = 0.17702666666666667 +/- 0.0007729500966115832, best nu = 0.6233333333333334 +/- 0.002721655269759089  \n",
    "\n",
    "exact_gamma = 1.75  \n",
    "exact_beta = 0.125  \n",
    "exact_alpha = 0"
   ]
  },
  {
   "cell_type": "code",
   "execution_count": null,
   "metadata": {
    "collapsed": false
   },
   "outputs": [],
   "source": [
    "_ = simulation.single_temperature_simulation(\"ising\", \"metropolis\", 10, 1, 2, \"hi\", 5000, 65536, True, True)\n",
    "plotting.show_history(ising.magnetization_history[10000:20000]/16, \"Magnetization\", True)"
   ]
  },
  {
   "cell_type": "code",
   "execution_count": null,
   "metadata": {
    "collapsed": true
   },
   "outputs": [],
   "source": [
    "ising = ising_model.IsingModel(4, 1, 2, \"hi\", 50000)\n",
    "ising.metropolis()"
   ]
  }
 ],
 "metadata": {
  "kernelspec": {
   "display_name": "Python 3",
   "language": "python",
   "name": "python3"
  },
  "language_info": {
   "codemirror_mode": {
    "name": "ipython",
    "version": 3
   },
   "file_extension": ".py",
   "mimetype": "text/x-python",
   "name": "python",
   "nbconvert_exporter": "python",
   "pygments_lexer": "ipython3",
   "version": "3.5.1"
  }
 },
 "nbformat": 4,
 "nbformat_minor": 0
}

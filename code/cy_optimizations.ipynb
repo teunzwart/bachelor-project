{
 "cells": [
  {
   "cell_type": "code",
   "execution_count": null,
   "metadata": {
    "collapsed": false
   },
   "outputs": [],
   "source": [
    "import numpy as np\n",
    "import ising_model\n",
    "\n",
    "%load_ext autoreload\n",
    "%autoreload 2\n",
    "%load_ext Cython\n",
    "%load_ext line_profiler\n",
    "\n",
    "lattice_size = 1024\n",
    "bond_energy = 1\n",
    "lattice2 = np.random.choice([-1, 1], lattice_size**2).reshape(lattice_size, lattice_size)\n",
    "\n",
    "# ising = ising_model.IsingModel(lattice_size, 1, 4, \"hi\", 100)"
   ]
  },
  {
   "cell_type": "code",
   "execution_count": null,
   "metadata": {
    "collapsed": false
   },
   "outputs": [],
   "source": [
    "# OpenMP fails when you don't use gcc-5 or another OpenMP-enabled compiler.\n",
    "%%cython --annotate --compile-args=-fopenmp --link-args=-fopenmp --force\n",
    "import numpy as np\n",
    "import cython\n",
    "import cython.parallel\n",
    "cimport numpy as np\n",
    "\n",
    "@cython.boundscheck(False)\n",
    "@cython.wraparound(False)\n",
    "def calculate_lattice_energy(np.ndarray[np.int_t, ndim=2] lattice, int lattice_size, int bond_energy):\n",
    "    \"\"\"Calculate the energy of the lattice using the Ising model Hamiltonian in zero-field.\"\"\"\n",
    "    cdef int energy = 0\n",
    "    cdef int y, x, center, offset_y, offset_x, xnn, ynn\n",
    "    with nogil, cython.parallel.parallel(num_threads=4):\n",
    "        for y in cython.parallel.prange(lattice_size):\n",
    "            offset_y = y + 1\n",
    "            if y + 1 >= lattice_size:\n",
    "                offset_y = offset_y - lattice_size\n",
    "            for x in range(lattice_size):\n",
    "                offset_x = x + 1\n",
    "                if x + 1 >= lattice_size:\n",
    "                    offset_x = offset_x - lattice_size\n",
    "                center = lattice[y, x]\n",
    "                xnn = lattice[y, offset_x]\n",
    "                ynn = lattice[offset_y, x]\n",
    "                if xnn == center:\n",
    "                    energy += -1 * bond_energy\n",
    "                else:\n",
    "                    energy += bond_energy\n",
    "                if ynn == center:\n",
    "                    energy += -1 * bond_energy\n",
    "                else:\n",
    "                    energy += bond_energy\n",
    "    return energy"
   ]
  },
  {
   "cell_type": "code",
   "execution_count": null,
   "metadata": {
    "collapsed": false
   },
   "outputs": [],
   "source": [
    "%timeit calculate_lattice_energy(lattice2, lattice_size, bond_energy)"
   ]
  },
  {
   "cell_type": "code",
   "execution_count": null,
   "metadata": {
    "collapsed": false
   },
   "outputs": [],
   "source": [
    "%timeit ising.calculate_lattice_energy()"
   ]
  },
  {
   "cell_type": "markdown",
   "metadata": {},
   "source": [
    "# 1024 by 1024\n",
    "- Plain function: 1 loop, best of 3: 669 ms per loop\n",
    "- Class method: 1 loop, best of 3: 760 ms per loop\n",
    "- Simple Cython: 1 loop, best of 3: 500 ms per loop\n",
    "- Some typing: 1 loop, best of 3: 420 ms per loop\n",
    "- Full cython solution: 100 loops, best of 3: 3.57 ms per loop\n",
    "- Including parallel execution: 100 loops, best of 3: 1.64 ms per loop\n",
    "Both plain and cython versions give same output, 395 times speedup"
   ]
  },
  {
   "cell_type": "code",
   "execution_count": null,
   "metadata": {
    "collapsed": false
   },
   "outputs": [],
   "source": [
    "print(calculate_lattice_energy(lattice2, lattice_size, bond_energy))"
   ]
  },
  {
   "cell_type": "code",
   "execution_count": null,
   "metadata": {
    "collapsed": false
   },
   "outputs": [],
   "source": [
    "print(ising.calculate_lattice_energy())"
   ]
  },
  {
   "cell_type": "code",
   "execution_count": null,
   "metadata": {
    "collapsed": true
   },
   "outputs": [],
   "source": [
    "def lattice_energy(lattice, lattice_size, bond_energy):\n",
    "    \"\"\"Calculate the energy of the lattice using the Ising model Hamiltonian in zero-field.\"\"\"\n",
    "    energy = 0\n",
    "    for y in range(lattice_size):\n",
    "        offset_y = (y + 1) % lattice_size\n",
    "        current_row = lattice[y]\n",
    "        next_row = lattice[offset_y]\n",
    "        for x in range(lattice_size):\n",
    "            center = current_row[x]\n",
    "            offset_x = (x + 1) % lattice_size\n",
    "            if current_row[offset_x] == center:\n",
    "                energy -= bond_energy\n",
    "            else:\n",
    "                energy += bond_energy\n",
    "            if next_row[x] == center:\n",
    "                energy -= bond_energy\n",
    "            else:\n",
    "                energy += bond_energy\n",
    "    return energy"
   ]
  },
  {
   "cell_type": "code",
   "execution_count": null,
   "metadata": {
    "collapsed": false
   },
   "outputs": [],
   "source": [
    "print(lattice_energy(lattice2, lattice_size, bond_energy))"
   ]
  },
  {
   "cell_type": "code",
   "execution_count": null,
   "metadata": {
    "collapsed": true
   },
   "outputs": [],
   "source": [
    "import cy_ising_model as cy"
   ]
  },
  {
   "cell_type": "code",
   "execution_count": null,
   "metadata": {
    "collapsed": false
   },
   "outputs": [],
   "source": [
    "%timeit cy.calculate_lattice_energy(lattice2, lattice_size, bond_energy)"
   ]
  },
  {
   "cell_type": "code",
   "execution_count": null,
   "metadata": {
    "collapsed": true
   },
   "outputs": [],
   "source": []
  }
 ],
 "metadata": {
  "kernelspec": {
   "display_name": "Python 3",
   "language": "python",
   "name": "python3"
  },
  "language_info": {
   "codemirror_mode": {
    "name": "ipython",
    "version": 3
   },
   "file_extension": ".py",
   "mimetype": "text/x-python",
   "name": "python",
   "nbconvert_exporter": "python",
   "pygments_lexer": "ipython3",
   "version": "3.5.1"
  }
 },
 "nbformat": 4,
 "nbformat_minor": 0
}

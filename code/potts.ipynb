{
 "cells": [
  {
   "cell_type": "code",
   "execution_count": null,
   "metadata": {
    "collapsed": false
   },
   "outputs": [],
   "source": [
    "%matplotlib inline\n",
    "%load_ext autoreload\n",
    "%autoreload 2\n",
    "%load_ext line_profiler\n",
    "%load_ext Cython\n",
    "\n",
    "import matplotlib.pyplot as plt\n",
    "import numpy as np\n",
    "import seaborn\n",
    "\n",
    "import ising_model\n",
    "import exact_ising_model as exact\n",
    "import plotting\n",
    "import analysis\n",
    "import potts_model\n",
    "import simulation\n",
    "import cy_potts_model"
   ]
  },
  {
   "cell_type": "code",
   "execution_count": null,
   "metadata": {
    "collapsed": false,
    "scrolled": true
   },
   "outputs": [],
   "source": [
    "files = [\"20160517_121419_potts_wolff_10_65536_[0.9-1.1]_0.01.pickle\",\n",
    "\"20160517_122709_potts_wolff_20_65536_[0.9-1.1]_0.01.pickle\",\n",
    "        \"20160517_130900_potts_wolff_40_65536_[0.9-1.1]_0.01.pickle\"]\n",
    "\n",
    "(critical_temperature,\n",
    " critical_temperature_error,\n",
    " magnetizabilities,\n",
    " magnetizations,\n",
    " heat_capacities) = analysis.data_analysis(files, save=False, exact_ising=False)"
   ]
  },
  {
   "cell_type": "code",
   "execution_count": null,
   "metadata": {
    "collapsed": false
   },
   "outputs": [],
   "source": [
    "analysis.find_critical_exponents(critical_temperature,\n",
    "                                 critical_temperature_error,\n",
    "                                 magnetizabilities,\n",
    "                                 magnetizations,\n",
    "                                 heat_capacities, 0.9, 0.1, 0.5, 4)"
   ]
  },
  {
   "cell_type": "code",
   "execution_count": null,
   "metadata": {
    "collapsed": false,
    "scrolled": true
   },
   "outputs": [],
   "source": [
    "analysis.chi_squared_data_collapse(magnetizabilities, critical_temperature, critical_temperature_error)"
   ]
  },
  {
   "cell_type": "code",
   "execution_count": null,
   "metadata": {
    "collapsed": false
   },
   "outputs": [],
   "source": [
    "files = [\"20160517_130917_potts_wolff_10_65536_[0.995-0.995]_0.1.pickle\",\n",
    "        \"20160517_130958_potts_wolff_20_65536_[0.995-0.995]_0.1.pickle\",\n",
    "        \"20160517_131216_potts_wolff_40_65536_[0.995-0.995]_0.1.pickle\",\n",
    "        \"20160517_131643_potts_wolff_60_65536_[0.995-0.995]_0.1.pickle\",\n",
    "        \"20160517_132347_potts_wolff_80_65536_[0.995-0.995]_0.1.pickle\"]\n",
    "\n",
    "(critical_temperature,\n",
    " critical_temperature_error,\n",
    " magnetizabilities,\n",
    " magnetizations,\n",
    " heat_capacities) = analysis.data_analysis(files, save=False, exact_ising=False, show_plots=False)\n",
    "\n",
    "beta_over_nu, beta_over_nu_error = analysis.loglog_exponent_finding(magnetizations, 'Magnetization')\n",
    "alpha_over_nu, alpha_over_nu_error = analysis.loglog_exponent_finding(heat_capacities, 'Heat Capacity')\n",
    "gamma_over_nu, gamma_over_nu_error = analysis.loglog_exponent_finding(magnetizabilities, 'Magnetizabilities')\n",
    "\n",
    "print(-beta_over_nu, beta_over_nu_error)\n",
    "print(alpha_over_nu, alpha_over_nu_error)\n",
    "print(gamma_over_nu, gamma_over_nu_error)"
   ]
  },
  {
   "cell_type": "code",
   "execution_count": null,
   "metadata": {
    "collapsed": true
   },
   "outputs": [],
   "source": []
  }
 ],
 "metadata": {
  "kernelspec": {
   "display_name": "Python 3",
   "language": "python",
   "name": "python3"
  },
  "language_info": {
   "codemirror_mode": {
    "name": "ipython",
    "version": 3
   },
   "file_extension": ".py",
   "mimetype": "text/x-python",
   "name": "python",
   "nbconvert_exporter": "python",
   "pygments_lexer": "ipython3",
   "version": "3.5.1"
  }
 },
 "nbformat": 4,
 "nbformat_minor": 0
}

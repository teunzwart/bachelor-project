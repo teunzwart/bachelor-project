{
 "cells": [
  {
   "cell_type": "code",
   "execution_count": null,
   "metadata": {
    "collapsed": false
   },
   "outputs": [],
   "source": [
    "%matplotlib inline\n",
    "%load_ext autoreload\n",
    "%autoreload 2\n",
    "%load_ext line_profiler\n",
    "%load_ext Cython\n",
    "\n",
    "import matplotlib.pyplot as plt\n",
    "import numpy as np\n",
    "\n",
    "import ising_model\n",
    "import exact_ising_model as exact\n",
    "import plotting\n",
    "import analysis\n",
    "import potts_model\n",
    "import simulation\n",
    "import cy_potts_model"
   ]
  },
  {
   "cell_type": "code",
   "execution_count": null,
   "metadata": {
    "collapsed": false
   },
   "outputs": [],
   "source": [
    "files = [\"20160517_130917_potts_wolff_10_65536_[0.995-0.995]_0.1.pickle\",\n",
    "        \"20160517_130958_potts_wolff_20_65536_[0.995-0.995]_0.1.pickle\",\n",
    "        \"20160517_131216_potts_wolff_40_65536_[0.995-0.995]_0.1.pickle\",\n",
    "        \"20160517_131643_potts_wolff_60_65536_[0.995-0.995]_0.1.pickle\",\n",
    "        \"20160517_132347_potts_wolff_80_65536_[0.995-0.995]_0.1.pickle\"]\n",
    "\n",
    "(critical_temperature,\n",
    " critical_temperature_error,\n",
    " magnetizabilities,\n",
    " magnetizations,\n",
    " heat_capacities) = analysis.data_analysis(files, save=False, exact_ising=False, show_plots=False)\n",
    "\n",
    "beta_over_nu, beta_over_nu_error = analysis.loglog_exponent_finding(magnetizations, 'Magnetization')\n",
    "alpha_over_nu, alpha_over_nu_error = analysis.loglog_exponent_finding(heat_capacities, 'Heat Capacity', heat_capacity_correction=1.5)\n",
    "gamma_over_nu, gamma_over_nu_error = analysis.loglog_exponent_finding(magnetizabilities, 'Magnetizabilities')\n",
    "\n",
    "print(\"Beta/Nu = {0} +/- {1}\".format(-beta_over_nu, beta_over_nu_error))\n",
    "print(\"Alpha/Nu = {0} +/- {1}\".format(alpha_over_nu, alpha_over_nu_error))\n",
    "print(\"Gamma/Nu = {0} +/- {1}\".format(gamma_over_nu, gamma_over_nu_error))"
   ]
  },
  {
   "cell_type": "code",
   "execution_count": null,
   "metadata": {
    "collapsed": false,
    "scrolled": false
   },
   "outputs": [],
   "source": [
    "files = [\"20160517_121419_potts_wolff_10_65536_[0.9-1.1]_0.01.pickle\",\n",
    "        \"20160517_122709_potts_wolff_20_65536_[0.9-1.1]_0.01.pickle\",\n",
    "        \"20160517_130900_potts_wolff_40_65536_[0.9-1.1]_0.01.pickle\"]\n",
    "\n",
    "(critical_temperature,\n",
    " critical_temperature_error,\n",
    " magnetizabilities,\n",
    " magnetizations,\n",
    " heat_capacities) = analysis.data_analysis(files, save=False, exact_ising=False)"
   ]
  },
  {
   "cell_type": "code",
   "execution_count": null,
   "metadata": {
    "collapsed": false
   },
   "outputs": [],
   "source": [
    "analysis.find_critical_exponents(critical_temperature,\n",
    "                                 critical_temperature_error,\n",
    "                                 magnetizabilities,\n",
    "                                 magnetizations,\n",
    "                                 heat_capacities, alpha=1/3, beta=1/9, gamma=13/9, nu=5/6, save=True, heat_capacity_correction=1.5)"
   ]
  },
  {
   "cell_type": "code",
   "execution_count": null,
   "metadata": {
    "collapsed": false,
    "scrolled": true
   },
   "outputs": [],
   "source": [
    "critical_temperature = 0.995\n",
    "(gamma, \n",
    " gamma_error, \n",
    " nu, \n",
    " nu_error) = analysis.chi_squared_data_collapse(magnetizabilities, \n",
    "                                                critical_temperature, \n",
    "                                                critical_temperature_error, \n",
    "                                                gamma_over_nu, gamma_over_nu_error, \"gamma\", show_plots=False, save_plot=False, collapse_limit=2)\n",
    "\n",
    "alpha = 2 - 2 * nu\n",
    "alpha_error = 2 * nu_error\n",
    "\n",
    "beta = (2 - alpha - gamma) / 2\n",
    "beta_error = (alpha_error + gamma_error) / 2\n",
    "\n",
    "delta = (2-alpha) / beta - 1\n",
    "delta_error = delta * ((alpha_error/alpha)**2 + (beta_error/beta)**2)**0.5\n",
    "\n",
    "eta = 2 - (gamma/nu)\n",
    "eta_error = eta * ((gamma_error / gamma)**2 + (nu_error/nu)**2 )**0.5\n",
    "\n",
    "print(\"alpha = {0} +/- {1}\".format(alpha, alpha_error))\n",
    "print(\"beta = {0} +/- {1}\".format(beta, beta_error))\n",
    "print(\"delta = {0} +/- {1}\".format(delta, delta_error))\n",
    "print(\"eta = {0} +/- {1}\".format(eta, eta_error))"
   ]
  },
  {
   "cell_type": "markdown",
   "metadata": {},
   "source": [
    "#All \n",
    "best gamma = 1.2633684886840095 +/- 0.05562577578003285\n",
    "best nu = 0.7 +/- 0.03103164454170876\n",
    "\n",
    "alpha = 0.6000000000000001 +/- 0.06206328908341752\n",
    "beta = 0.06831575565799519 +/- 0.05884453243172519\n",
    "delta = 19.49307639966292 +/- 16.91121258749129\n",
    "eta = 0.1951878733085577 +/- 0.012195490498575141\n",
    "\n",
    "# Leave out 10\n",
    "best gamma = 1.75704970808092 +/- 0.059549605877913143\n",
    "best nu = 0.9733333333333333 +/- 0.03247030932489434\n",
    "\n",
    "alpha = 0.053333333333333455 +/- 0.06494061864978869\n",
    "beta = 0.09480847929287328 +/- 0.06224511226385092\n",
    "delta = 19.53262198893846 +/- 27.02059559709568\n",
    "eta = 0.19481194375247934 +/- 0.009264406047182318\n",
    "\n",
    "# Leave out 20\n",
    "best gamma = 1.5903958202119233 +/- 0.0969133972279817\n",
    "best nu = 0.8811111111111112 +/- 0.053574557358499225\n",
    "\n",
    "alpha = 0.23777777777777764 +/- 0.10714911471699845\n",
    "beta = 0.08591320100514954 +/- 0.10203125597249008\n",
    "delta = 19.51165829703629 +/- 24.78425318494389\n",
    "eta = 0.1950110489398098 +/- 0.01678718935809517\n",
    "\n",
    "# Leave out 40\n",
    "best gamma = 1.7828176375336977 +/- 0.0649812274489549\n",
    "best nu = 0.9877777777777779 +/- 0.03596218101907661\n",
    "\n",
    "alpha = 0.02444444444444427 +/- 0.07192436203815322\n",
    "beta = 0.09636895901092901 +/- 0.06845279474355406\n",
    "delta = 19.49991590478332 +/- 59.024020885935634\n",
    "eta = 0.1951227516531746 +/- 0.010052103005382576 "
   ]
  },
  {
   "cell_type": "code",
   "execution_count": null,
   "metadata": {
    "collapsed": false
   },
   "outputs": [],
   "source": [
    "(beta,\n",
    " beta_error,\n",
    " nu,\n",
    " nu_error) = analysis.chi_squared_data_collapse(magnetizations, \n",
    "                                                critical_temperature, \n",
    "                                                critical_temperature_error, \n",
    "                                                beta_over_nu, beta_over_nu_error, \"beta\", show_plots=True, collapse_limit=2)\n",
    "\n",
    "\n",
    "beta *= -1\n",
    "alpha = 2 - 2 * nu\n",
    "alpha_error = 2 * nu_error\n",
    "\n",
    "gamma = 2 - alpha - 2 * beta\n",
    "gamma_error = alpha_error + 2 * beta_error\n",
    "\n",
    "delta = (2-alpha) / beta - 1\n",
    "delta_error = delta * ((alpha_error/alpha)**2 + (beta_error/beta)**2)**0.5\n",
    "\n",
    "eta = 2 - (gamma/nu)\n",
    "eta_error = eta * ((gamma_error / gamma)**2 + (nu_error/nu)**2 )**0.5\n",
    "\n",
    "\n",
    "print(\"alpha = {0} +/- {1}\".format(alpha, alpha_error))\n",
    "print(\"gamma = {0} +/- {1}\".format(gamma, gamma_error))\n",
    "print(\"delta = {0} +/- {1}\".format(delta, delta_error))\n",
    "print(\"eta = {0} +/- {1}\".format(eta, eta_error))\n",
    "\n",
    "print(2 * nu, 2 - alpha) # Consistency check"
   ]
  },
  {
   "cell_type": "code",
   "execution_count": null,
   "metadata": {
    "collapsed": false,
    "scrolled": true
   },
   "outputs": [],
   "source": [
    "(alpha, alpha_over_nu_error,\n",
    " nu, nu_error) = analysis.chi_squared_data_collapse(heat_capacities, \n",
    "                                                    critical_temperature, \n",
    "                                                    critical_temperature_error, \n",
    "                                                    alpha_over_nu, alpha_over_nu_error, \"alpha\", show_plots=True,\n",
    "                                                    heat_capacity_correction=1.5)\n",
    "print(2 * nu, 2 - alpha) # Consistency check"
   ]
  },
  {
   "cell_type": "code",
   "execution_count": null,
   "metadata": {
    "collapsed": true
   },
   "outputs": [],
   "source": []
  }
 ],
 "metadata": {
  "kernelspec": {
   "display_name": "Python 3",
   "language": "python",
   "name": "python3"
  },
  "language_info": {
   "codemirror_mode": {
    "name": "ipython",
    "version": 3
   },
   "file_extension": ".py",
   "mimetype": "text/x-python",
   "name": "python",
   "nbconvert_exporter": "python",
   "pygments_lexer": "ipython3",
   "version": "3.5.1"
  }
 },
 "nbformat": 4,
 "nbformat_minor": 0
}

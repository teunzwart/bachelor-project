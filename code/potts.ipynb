{
 "cells": [
  {
   "cell_type": "code",
   "execution_count": null,
   "metadata": {
    "collapsed": false
   },
   "outputs": [],
   "source": [
    "%matplotlib inline\n",
    "%load_ext autoreload\n",
    "%autoreload 2\n",
    "%load_ext line_profiler\n",
    "%load_ext Cython\n",
    "\n",
    "import matplotlib.pyplot as plt\n",
    "import numpy as np\n",
    "import seaborn\n",
    "\n",
    "import ising_model\n",
    "import exact_ising_model as exact\n",
    "import plotting\n",
    "import analysis\n",
    "import potts_model\n",
    "import simulation\n",
    "import cy_potts_model"
   ]
  },
  {
   "cell_type": "code",
   "execution_count": null,
   "metadata": {
    "collapsed": false,
    "scrolled": true
   },
   "outputs": [],
   "source": [
    "simulation.simulation_range(\"potts\", \"wolff\", [10, 20, 40], 1, \"hi\", 5000, 65536, 0.5, 1.5, step=0.1, show_plots=True)"
   ]
  },
  {
   "cell_type": "code",
   "execution_count": null,
   "metadata": {
    "collapsed": false,
    "scrolled": false
   },
   "outputs": [],
   "source": [
    "files = [\"20160510_104007_potts_wolff_10_65536_[0.5-1.5]_0.1.pickle\",\n",
    "\"20160510_104658_potts_wolff_20_65536_[0.5-1.5]_0.1.pickle\",\n",
    "\"20160510_111217_potts_wolff_40_65536_[0.5-1.5]_0.1.pickle\"]\n",
    "\n",
    "(critical_temperature,\n",
    " critical_temperature_error,\n",
    " magnetizabilities,\n",
    " magnetizations,\n",
    " heat_capacities) = analysis.data_analysis(files, save=False, exact_ising=False)"
   ]
  },
  {
   "cell_type": "code",
   "execution_count": null,
   "metadata": {
    "collapsed": false
   },
   "outputs": [],
   "source": [
    "analysis.find_critical_exponents(critical_temperature,\n",
    "                                 critical_temperature_error,\n",
    "                                 magnetizabilities,\n",
    "                                 magnetizations,\n",
    "                                 heat_capacities, 0.9, 0.1, 0.5, 4)"
   ]
  },
  {
   "cell_type": "code",
   "execution_count": null,
   "metadata": {
    "collapsed": false,
    "scrolled": true
   },
   "outputs": [],
   "source": [
    "analysis.chi_squared_data_collapse(magnetizabilities, \"Magnetizability\", critical_temperature, critical_temperature_error)"
   ]
  },
  {
   "cell_type": "code",
   "execution_count": null,
   "metadata": {
    "collapsed": false
   },
   "outputs": [],
   "source": [
    "potts = potts_model.PottsModel(10, 1, 4, \"lo\", 10000)"
   ]
  },
  {
   "cell_type": "code",
   "execution_count": null,
   "metadata": {
    "collapsed": false
   },
   "outputs": [],
   "source": [
    "plotting.show_lattice(potts.lattice, 10)\n",
    "print(potts.lattice)"
   ]
  },
  {
   "cell_type": "code",
   "execution_count": null,
   "metadata": {
    "collapsed": true
   },
   "outputs": [],
   "source": [
    "def potts_order(lattice, lattice_size):\n",
    "    order_parameter = 0\n",
    "    for y in range(lattice_size):\n",
    "        for x in range(lattice_size):\n",
    "            delta = 0\n",
    "            spin = lattice[y, x]\n",
    "            if spin == 1:\n",
    "                delta = 1\n",
    "            order_parameter += 3 * delta - 1\n",
    "    \n",
    "    print(order_parameter)\n",
    "    return "
   ]
  },
  {
   "cell_type": "code",
   "execution_count": null,
   "metadata": {
    "collapsed": false
   },
   "outputs": [],
   "source": [
    "lattice_size = 10\n",
    "lattice1 = np.random.choice([0, 1, 2], lattice_size**2).reshape(lattice_size, lattice_size)\n",
    "lattice = np.full((lattice_size, lattice_size), -1, dtype=\"int64\")\n",
    "potts_order(lattice, 10)"
   ]
  },
  {
   "cell_type": "code",
   "execution_count": null,
   "metadata": {
    "collapsed": true
   },
   "outputs": [],
   "source": [
    "import cmath\n",
    "\n",
    "def potts_clocks(lattice, lattice_size):\n",
    "    order_parameter = 0\n",
    "    print(order_parameter)\n",
    "    state0 = 1\n",
    "    state1 = cmath.exp((2 * cmath.pi * 1j) / 3)\n",
    "    state2 = cmath.exp((4 * cmath.pi * 1j) / 3)\n",
    "    for y in range(lattice_size):\n",
    "        for x in range(lattice_size):\n",
    "            spin = lattice[y, x]\n",
    "            if spin == 0:\n",
    "                order_parameter += state0\n",
    "            elif spin == 1:\n",
    "                order_parameter += state1\n",
    "            elif spin == 2:\n",
    "                order_parameter += state2\n",
    "    \n",
    "    print(abs(order_parameter) / lattice_size**2)"
   ]
  },
  {
   "cell_type": "code",
   "execution_count": null,
   "metadata": {
    "collapsed": false
   },
   "outputs": [],
   "source": [
    "lattice_size = 10000\n",
    "lattice1 = np.random.choice([0,1,2], lattice_size**2).reshape(lattice_size, lattice_size)\n",
    "print(lattice1)\n",
    "potts_clocks(lattice1, 10)"
   ]
  },
  {
   "cell_type": "code",
   "execution_count": null,
   "metadata": {
    "collapsed": true
   },
   "outputs": [],
   "source": []
  }
 ],
 "metadata": {
  "kernelspec": {
   "display_name": "Python 3",
   "language": "python",
   "name": "python3"
  },
  "language_info": {
   "codemirror_mode": {
    "name": "ipython",
    "version": 3
   },
   "file_extension": ".py",
   "mimetype": "text/x-python",
   "name": "python",
   "nbconvert_exporter": "python",
   "pygments_lexer": "ipython3",
   "version": "3.5.1"
  }
 },
 "nbformat": 4,
 "nbformat_minor": 0
}

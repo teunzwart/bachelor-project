{
 "cells": [
  {
   "cell_type": "code",
   "execution_count": null,
   "metadata": {
    "collapsed": false
   },
   "outputs": [],
   "source": [
    "%matplotlib inline\n",
    "%load_ext autoreload\n",
    "%autoreload 2\n",
    "%load_ext line_profiler\n",
    "%load_ext Cython\n",
    "\n",
    "import matplotlib.pyplot as plt\n",
    "import numpy as np\n",
    "import seaborn\n",
    "\n",
    "import ising_model\n",
    "import exact_ising_model as exact\n",
    "import plotting\n",
    "import analysis\n",
    "import potts_model\n",
    "import simulation\n",
    "import cy_potts_model"
   ]
  },
  {
   "cell_type": "code",
   "execution_count": null,
   "metadata": {
    "collapsed": false
   },
   "outputs": [],
   "source": [
    "lattice_size = 4\n",
    "potts = potts_model.PottsModel(lattice_size, 1, 3, 'hi', 10000)\n",
    "# %lprun -f potts.metropolis potts.metropolis()\n",
    "potts.metropolis()"
   ]
  },
  {
   "cell_type": "code",
   "execution_count": null,
   "metadata": {
    "collapsed": false
   },
   "outputs": [],
   "source": [
    "%%cython -a\n",
    "\n",
    "import numpy as np\n",
    "cimport numpy as np\n",
    "import cy_potts_model\n",
    "\n",
    "def metropolis(lattice, lattice_size, bond_energy, sweeps):\n",
    "    \"\"\"Implentation of the Metropolis alogrithm.\"\"\"\n",
    "    energy = cy_potts_model.calculate_lattice_energy(lattice, lattice_size, bond_energy)\n",
    "    magnetization = np.sum(lattice)\n",
    "    for t in range(sweeps):\n",
    "        # Measurement every sweep.\n",
    "        np.put(energy_history, t, energy)\n",
    "        np.put(magnetization_history, t, magnetization)\n",
    "        for k in range(lattice_size**2):\n",
    "            states = [-1, 0, 1]\n",
    "            # Pick a random location on the lattice.\n",
    "            rand_y = np.random.randint(0, lattice_size)\n",
    "            rand_x = np.random.randint(0, lattice_size)\n",
    "\n",
    "            spin = lattice[rand_y, rand_x]  # Get spin at the random location.\n",
    "            states.remove(spin)\n",
    "            temp_lattice = self.lattice\n",
    "            random_new_spin = np.random.choice(states)\n",
    "            temp_lattice[rand_y, rand_x] = random_new_spin\n",
    "            new_energy = cy_potts_model.calculate_lattice_energy(self.lattice, self.lattice_size, self.bond_energy)\n",
    "            energy_delta = new_energy - energy\n",
    "\n",
    "            # Energy may always be lowered.\n",
    "            if energy_delta <= 0:\n",
    "                acceptance_probability = 1\n",
    "            # Energy is increased with probability proportional to Boltzmann distribution.\n",
    "            else:\n",
    "                acceptance_probability = np.exp(-self.beta * energy_delta)\n",
    "            if np.random.random() <= acceptance_probability:\n",
    "                # Flip the spin and change the energy.\n",
    "                self.lattice[rand_y, rand_x] = random_new_spin\n",
    "                energy += energy_delta\n",
    "                magnetization = np.sum(self.lattice)"
   ]
  },
  {
   "cell_type": "code",
   "execution_count": null,
   "metadata": {
    "collapsed": false
   },
   "outputs": [],
   "source": [
    "simulation.simulation_range(\"potts\", \"wolff\", [4, 10, 20], 1, \"hi\", 1000, 4096, 0.5, 1.5, step=0.1, show_plots=True)"
   ]
  },
  {
   "cell_type": "code",
   "execution_count": null,
   "metadata": {
    "collapsed": false,
    "scrolled": false
   },
   "outputs": [],
   "source": [
    "files = [\"20160506_133910_potts_metropolis_4_5096_[0.1-2]_0.1.pickle\",\n",
    "\"20160506_133951_potts_metropolis_6_5096_[0.1-2]_0.1.pickle\",\n",
    " \"20160506_134104_potts_metropolis_8_5096_[0.1-2]_0.1.pickle\"]\n",
    "\n",
    "files2 = [\"20160506_114736_potts_metropolis_4_5096_[2-3]_0.1.pickle\", \n",
    "\"20160506_114803_potts_metropolis_6_5096_[2-3]_0.1.pickle\",\n",
    "\"20160506_114848_potts_metropolis_8_5096_[2-3]_0.1.pickle\"]\n",
    "\n",
    "files3 = [\"20160509_164121_potts_metropolis_4_5096_[0.5-1.5]_0.1.pickle\"]\n",
    "potts_wolff = [\"20160509_164804_potts_wolff_4_5096_[0.5-1.5]_0.1.pickle\"]\n",
    "potts_wolff_range = [\"20160509_165117_potts_wolff_4_5096_[0.5-1.5]_0.1.pickle\",\n",
    "                    \"20160509_165126_potts_wolff_10_5096_[0.5-1.5]_0.1.pickle\",\n",
    "                    \"20160509_165155_potts_wolff_20_5096_[0.5-1.5]_0.1.pickle\"]\n",
    "\n",
    "analysis.data_analysis(potts_wolff_range, 0.1, 1, 1, 1, show_plots=True, exact_ising=False)"
   ]
  },
  {
   "cell_type": "code",
   "execution_count": null,
   "metadata": {
    "collapsed": false
   },
   "outputs": [],
   "source": [
    "import numpy as np\n",
    "np.linspace(0.1,2 ,19.999999999999996)"
   ]
  },
  {
   "cell_type": "code",
   "execution_count": null,
   "metadata": {
    "collapsed": false
   },
   "outputs": [],
   "source": [
    "(2-0.1)/0.1+1"
   ]
  },
  {
   "cell_type": "code",
   "execution_count": null,
   "metadata": {
    "collapsed": true
   },
   "outputs": [],
   "source": []
  }
 ],
 "metadata": {
  "kernelspec": {
   "display_name": "Python 3",
   "language": "python",
   "name": "python3"
  },
  "language_info": {
   "codemirror_mode": {
    "name": "ipython",
    "version": 3
   },
   "file_extension": ".py",
   "mimetype": "text/x-python",
   "name": "python",
   "nbconvert_exporter": "python",
   "pygments_lexer": "ipython3",
   "version": "3.5.1"
  }
 },
 "nbformat": 4,
 "nbformat_minor": 0
}

{
 "cells": [
  {
   "cell_type": "code",
   "execution_count": null,
   "metadata": {
    "collapsed": false
   },
   "outputs": [],
   "source": [
    "%matplotlib inline\n",
    "%load_ext autoreload\n",
    "%autoreload 2\n",
    "%load_ext line_profiler\n",
    "%load_ext Cython\n",
    "\n",
    "import matplotlib.pyplot as plt\n",
    "import numpy as np\n",
    "\n",
    "import ising_model\n",
    "import exact_ising_model as exact\n",
    "import plotting\n",
    "import analysis\n",
    "import potts_model\n",
    "import simulation\n",
    "import cy_potts_model"
   ]
  },
  {
   "cell_type": "code",
   "execution_count": null,
   "metadata": {
    "collapsed": false
   },
   "outputs": [],
   "source": [
    "files = [\"20160517_130917_potts_wolff_10_65536_[0.995-0.995]_0.1.pickle\",\n",
    "        \"20160517_130958_potts_wolff_20_65536_[0.995-0.995]_0.1.pickle\",\n",
    "        \"20160517_131216_potts_wolff_40_65536_[0.995-0.995]_0.1.pickle\",\n",
    "        \"20160517_131643_potts_wolff_60_65536_[0.995-0.995]_0.1.pickle\",\n",
    "        \"20160517_132347_potts_wolff_80_65536_[0.995-0.995]_0.1.pickle\"]\n",
    "\n",
    "(critical_temperature,\n",
    " critical_temperature_error,\n",
    " magnetizabilities,\n",
    " magnetizations,\n",
    " heat_capacities) = analysis.data_analysis(files, save=False, exact_ising=False, show_plots=False)\n",
    "\n",
    "beta_over_nu, beta_over_nu_error = analysis.loglog_exponent_finding(magnetizations, 'Magnetization')\n",
    "alpha_over_nu, alpha_over_nu_error = analysis.loglog_exponent_finding(heat_capacities, 'Heat Capacity')\n",
    "gamma_over_nu, gamma_over_nu_error = analysis.loglog_exponent_finding(magnetizabilities, 'Magnetizabilities')\n",
    "\n",
    "print(\"Beta/Nu = {0} +/- {1}\".format(-beta_over_nu, beta_over_nu_error))\n",
    "print(\"Alpha/Nu = {0} +/- {1}\".format(alpha_over_nu, alpha_over_nu_error))\n",
    "print(\"Gamma/Nu = {0} +/- {1}\".format(gamma_over_nu, gamma_over_nu_error))"
   ]
  },
  {
   "cell_type": "code",
   "execution_count": null,
   "metadata": {
    "collapsed": false,
    "scrolled": false
   },
   "outputs": [],
   "source": [
    "files = [\"20160517_121419_potts_wolff_10_65536_[0.9-1.1]_0.01.pickle\",\n",
    "\"20160517_122709_potts_wolff_20_65536_[0.9-1.1]_0.01.pickle\",\n",
    "        \"20160517_130900_potts_wolff_40_65536_[0.9-1.1]_0.01.pickle\"]\n",
    "\n",
    "(critical_temperature,\n",
    " critical_temperature_error,\n",
    " magnetizabilities,\n",
    " magnetizations,\n",
    " heat_capacities) = analysis.data_analysis(files, save=False, exact_ising=False)"
   ]
  },
  {
   "cell_type": "code",
   "execution_count": null,
   "metadata": {
    "collapsed": false
   },
   "outputs": [],
   "source": [
    "analysis.find_critical_exponents(critical_temperature,\n",
    "                                 critical_temperature_error,\n",
    "                                 magnetizabilities,\n",
    "                                 magnetizations,\n",
    "                                 heat_capacities, 1/3, 1/9, 13/9, 5/6, True)"
   ]
  },
  {
   "cell_type": "code",
   "execution_count": null,
   "metadata": {
    "collapsed": false,
    "scrolled": true
   },
   "outputs": [],
   "source": [
    "(gamma, \n",
    " gamma_error, \n",
    " nu, \n",
    " nu_error) = analysis.chi_squared_data_collapse(magnetizabilities, \n",
    "                                                critical_temperature, \n",
    "                                                critical_temperature_error, \n",
    "                                                gamma_over_nu, gamma_over_nu_error, \"gamma\", show_plots=True)\n",
    "\n",
    "alpha = 2 - 2 * nu\n",
    "alpha_error = 2 * nu_error\n",
    "\n",
    "beta = (2 - alpha - gamma) / 2\n",
    "beta_error = (alpha_error + gamma_error) / 2\n",
    "\n",
    "delta = (2-alpha) / beta - 1\n",
    "delta_error = delta * ((alpha_error/alpha)**2 + (beta_error/beta)**2)**0.5\n",
    "\n",
    "eta = 2 - (gamma/nu)\n",
    "eta_error = eta * ((gamma_error / gamma)**2 + (nu_error/nu)**2 )**0.5\n",
    "\n",
    "print(\"alpha = {0} +/- {1}\".format(alpha, alpha_error))\n",
    "print(\"beta = {0} +/- {1}\".format(beta, beta_error))\n",
    "print(\"delta = {0} +/- {1}\".format(delta, delta_error))\n",
    "print(\"eta = {0} +/- {1}\".format(eta, eta_error))"
   ]
  },
  {
   "cell_type": "code",
   "execution_count": null,
   "metadata": {
    "collapsed": false
   },
   "outputs": [],
   "source": [
    "(beta,\n",
    " beta_error,\n",
    " nu,\n",
    " nu_error) = analysis.chi_squared_data_collapse(magnetizations, \n",
    "                                                critical_temperature, \n",
    "                                                critical_temperature_error, \n",
    "                                                beta_over_nu, beta_over_nu_error, \"beta\", show_plots=True)\n",
    "\n",
    "\n",
    "beta *= -1\n",
    "alpha = 2 - 2 * nu\n",
    "alpha_error = 2 * nu_error\n",
    "\n",
    "gamma = 2 - alpha - 2 * beta\n",
    "gamma_error = alpha_error + 2 * beta_error\n",
    "\n",
    "delta = (2-alpha) / beta - 1\n",
    "delta_error = delta * ((alpha_error/alpha)**2 + (beta_error/beta)**2)**0.5\n",
    "\n",
    "eta = 2 - (gamma/nu)\n",
    "eta_error = eta * ((gamma_error / gamma)**2 + (nu_error/nu)**2 )**0.5\n",
    "\n",
    "\n",
    "print(\"alpha = {0} +/- {1}\".format(alpha, alpha_error))\n",
    "print(\"gamma = {0} +/- {1}\".format(gamma, gamma_error))\n",
    "print(\"delta = {0} +/- {1}\".format(delta, delta_error))\n",
    "print(\"eta = {0} +/- {1}\".format(eta, eta_error))\n",
    "\n",
    "print(2 * nu, 2 - alpha) # Consistency check"
   ]
  },
  {
   "cell_type": "code",
   "execution_count": null,
   "metadata": {
    "collapsed": false,
    "scrolled": true
   },
   "outputs": [],
   "source": [
    "(alpha, alpha_over_nu_error,\n",
    " nu, nu_error) = analysis.chi_squared_data_collapse(heat_capacities, \n",
    "                                                    critical_temperature, \n",
    "                                                    critical_temperature_error, \n",
    "                                                    alpha_over_nu, alpha_over_nu_error, \"alpha\")\n",
    "print(2 * nu, 2 - alpha) # Consistency check"
   ]
  },
  {
   "cell_type": "code",
   "execution_count": null,
   "metadata": {
    "collapsed": true
   },
   "outputs": [],
   "source": []
  }
 ],
 "metadata": {
  "kernelspec": {
   "display_name": "Python 3",
   "language": "python",
   "name": "python3"
  },
  "language_info": {
   "codemirror_mode": {
    "name": "ipython",
    "version": 3
   },
   "file_extension": ".py",
   "mimetype": "text/x-python",
   "name": "python",
   "nbconvert_exporter": "python",
   "pygments_lexer": "ipython3",
   "version": "3.5.1"
  }
 },
 "nbformat": 4,
 "nbformat_minor": 0
}

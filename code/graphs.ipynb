{
 "cells": [
  {
   "cell_type": "code",
   "execution_count": null,
   "metadata": {
    "collapsed": false
   },
   "outputs": [],
   "source": [
    "%matplotlib inline\n",
    "%load_ext autoreload\n",
    "% autoreload 2\n",
    "\n",
    "import matplotlib.pyplot as plt\n",
    "plt.rc('text', usetex=True)\n",
    "import seaborn as sns\n",
    "sns.set_style(\"ticks\")\n",
    "sns.set_palette('colorblind') # Options: deep, muted, pastel, bright, dark, colorblind\n",
    "current_palette = sns.color_palette()\n",
    "sns.palplot(current_palette)\n",
    "\n",
    "import exact_ising_model as exact"
   ]
  },
  {
   "cell_type": "code",
   "execution_count": null,
   "metadata": {
    "collapsed": false
   },
   "outputs": [],
   "source": [
    "exact_magnetization = exact.magnetization(1, 0.01, 5)\n",
    "\n",
    "plt.plot([m[0] for m in exact_magnetization], [m[1] for m in exact_magnetization])\n",
    "plt.ylim(ymax=1.1)\n",
    "\n",
    "\n",
    "plt.xlabel(r'$T$')\n",
    "plt.ylabel(r'$\\mathrm{Magnetization}$')\n",
    "sns.despine()\n",
    "plt.savefig(\"../bachelor-thesis/images/ising_magnetization.pdf\", bbox_inches='tight')\n",
    "plt.show()"
   ]
  },
  {
   "cell_type": "code",
   "execution_count": null,
   "metadata": {
    "collapsed": false
   },
   "outputs": [],
   "source": [
    "exact_energy = exact.internal_energy(1, 0.01, 5)\n",
    "exact_heat = exact.heat_capacity(1, 0.01, 5)\n",
    "\n",
    "plt.plot([e[0] for e in exact_energy], [e[1]+2 for e in exact_energy], label=r'$\\mathrm{Internal\\ Energy}$')\n",
    "plt.plot([h[0] for h in exact_heat], [h[1] for h in exact_heat], label=r'$\\mathrm{Heat\\ Capacity}$')\n",
    "\n",
    "plt.ylim(0, 2.5)\n",
    "\n",
    "plt.xlabel(r'$T$')\n",
    "plt.ylabel(r'$c/k_B \\mathrm{\\ or\\ } u + 2$')\n",
    "plt.legend()\n",
    "sns.despine()\n",
    "plt.savefig(\"../bachelor-thesis/images/ising_internal_energy.pdf\", bbox_inches='tight')\n",
    "plt.show()"
   ]
  },
  {
   "cell_type": "code",
   "execution_count": null,
   "metadata": {
    "collapsed": true
   },
   "outputs": [],
   "source": []
  }
 ],
 "metadata": {
  "kernelspec": {
   "display_name": "Python 3",
   "language": "python",
   "name": "python3"
  },
  "language_info": {
   "codemirror_mode": {
    "name": "ipython",
    "version": 3
   },
   "file_extension": ".py",
   "mimetype": "text/x-python",
   "name": "python",
   "nbconvert_exporter": "python",
   "pygments_lexer": "ipython3",
   "version": "3.5.1"
  }
 },
 "nbformat": 4,
 "nbformat_minor": 0
}
